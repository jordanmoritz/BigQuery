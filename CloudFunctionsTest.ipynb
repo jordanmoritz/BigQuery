{
 "cells": [
  {
   "cell_type": "code",
   "execution_count": 7,
   "metadata": {
    "collapsed": true
   },
   "outputs": [],
   "source": [
    "import requests\n",
    "import flask"
   ]
  },
  {
   "cell_type": "code",
   "execution_count": 5,
   "metadata": {},
   "outputs": [],
   "source": [
    "def count_words(url):\n",
    "    resp = requests.get(url)\n",
    "    return len(resp.text.split())"
   ]
  },
  {
   "cell_type": "code",
   "execution_count": 4,
   "metadata": {},
   "outputs": [
    {
     "data": {
      "text/plain": [
       "4371"
      ]
     },
     "execution_count": 4,
     "metadata": {},
     "output_type": "execute_result"
    }
   ],
   "source": [
    "count_words('https://www.fisherinvestments.com')"
   ]
  },
  {
   "cell_type": "code",
   "execution_count": 6,
   "metadata": {},
   "outputs": [
    {
     "data": {
      "text/plain": [
       "<Response [200]>"
      ]
     },
     "execution_count": 6,
     "metadata": {},
     "output_type": "execute_result"
    }
   ],
   "source": [
    "requests.get('https://us-central1-big-query-horse-play.cloudfunctions.net/test-func-ga-to-bq')"
   ]
  },
  {
   "cell_type": "code",
   "execution_count": 8,
   "metadata": {
    "collapsed": true
   },
   "outputs": [],
   "source": [
    "# Really basic function to explain parsing the request object\n",
    "def hello_world(request):\n",
    "    \"\"\"Responds to any HTTP request.\n",
    "    Args:\n",
    "        request (flask.Request): HTTP request object.\n",
    "    Returns:\n",
    "        The response text or any set of values that can be turned into a\n",
    "        Response object using\n",
    "        `make_response <http://flask.pocoo.org/docs/0.12/api/#flask.Flask.make_response>`.\n",
    "    \"\"\"\n",
    "    request_json = request.get_json()\n",
    "    if request.args and 'message' in request.args:\n",
    "        return request.args.get('message')\n",
    "    elif request_json and 'message' in request_json:\n",
    "        return request_json['message']\n",
    "    else:\n",
    "        return f'Hello World!'\n"
   ]
  },
  {
   "cell_type": "code",
   "execution_count": null,
   "metadata": {
    "collapsed": true
   },
   "outputs": [],
   "source": [
    "# Better example that actually snags a parameter from the request object JSON\n",
    "def hello_http(request):\n",
    "    \"\"\"HTTP Cloud Function.\n",
    "    Args:\n",
    "        request (flask.Request): The request object.\n",
    "        <http://flask.pocoo.org/docs/0.12/api/#flask.Request>\n",
    "    Returns:\n",
    "        The response text, or any set of values that can be turned into a\n",
    "        Response object using `make_response`\n",
    "        <http://flask.pocoo.org/docs/0.12/api/#flask.Flask.make_response>.\n",
    "    \"\"\"\n",
    "    request_json = request.get_json()\n",
    "    if request_json and 'name' in request_json:\n",
    "        name = request_json['name']\n",
    "    else:\n",
    "        name = 'World'\n",
    "    return 'Hello, {}!'.format(name)"
   ]
  },
  {
   "cell_type": "code",
   "execution_count": null,
   "metadata": {
    "collapsed": true
   },
   "outputs": [],
   "source": [
    "# Just generate a request object that calls the above and passes the name parameter it needs"
   ]
  }
 ],
 "metadata": {
  "kernelspec": {
   "display_name": "Python 3",
   "language": "python",
   "name": "python3"
  },
  "language_info": {
   "codemirror_mode": {
    "name": "ipython",
    "version": 3
   },
   "file_extension": ".py",
   "mimetype": "text/x-python",
   "name": "python",
   "nbconvert_exporter": "python",
   "pygments_lexer": "ipython3",
   "version": "3.6.3"
  }
 },
 "nbformat": 4,
 "nbformat_minor": 2
}
