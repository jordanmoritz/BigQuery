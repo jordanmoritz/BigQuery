{
 "cells": [
  {
   "cell_type": "code",
   "execution_count": 1,
   "metadata": {
    "collapsed": true
   },
   "outputs": [],
   "source": [
    "from google.cloud import bigquery as bq\n",
    "import os"
   ]
  },
  {
   "cell_type": "code",
   "execution_count": 2,
   "metadata": {
    "collapsed": true
   },
   "outputs": [],
   "source": [
    "service_credentials = 'Service_Credentials/big-query-horse-play-f37757d450b8.json'\n",
    "os.environ['GOOGLE_APPLICATION_CREDENTIALS'] = service_credentials\n",
    "\n",
    "project = 'big-query-horse-play'\n",
    "\n",
    "# Instantiates bq client but requires project id argument\n",
    "bq_client = bq.Client(project=project)"
   ]
  },
  {
   "cell_type": "code",
   "execution_count": 3,
   "metadata": {},
   "outputs": [
    {
     "data": {
      "text/plain": [
       "[<google.cloud.bigquery.dataset.DatasetListItem at 0x1e6c6780a90>]"
      ]
     },
     "execution_count": 3,
     "metadata": {},
     "output_type": "execute_result"
    }
   ],
   "source": [
    "data_sets = list(bq_client.list_datasets())\n",
    "\n",
    "len(data_sets)\n",
    "\n",
    "data_sets\n",
    "\n",
    "# bq_client.list_projects()\n",
    "\n",
    "\n",
    "# Need to loop through these"
   ]
  },
  {
   "cell_type": "code",
   "execution_count": 4,
   "metadata": {},
   "outputs": [
    {
     "name": "stdout",
     "output_type": "stream",
     "text": [
      "<google.cloud.bigquery.client.Project object at 0x000001E6C7FD05C0>\n"
     ]
    }
   ],
   "source": [
    "for project in bq_client.list_projects():\n",
    "    print(project)"
   ]
  },
  {
   "cell_type": "code",
   "execution_count": 5,
   "metadata": {},
   "outputs": [
    {
     "name": "stdout",
     "output_type": "stream",
     "text": [
      "Datasets in project big-query-horse-play:\n",
      "\tnames_dataset\n"
     ]
    }
   ],
   "source": [
    "datasets = list(bq_client.list_datasets())\n",
    "project = bq_client.project\n",
    "\n",
    "if datasets:\n",
    "    print('Datasets in project {}:'.format(project))\n",
    "    for dataset in datasets:  # API request(s)\n",
    "        print('\\t{}'.format(dataset.dataset_id))\n",
    "else:\n",
    "    print('{} project does not contain any datasets.'.format(project))"
   ]
  },
  {
   "cell_type": "code",
   "execution_count": 10,
   "metadata": {},
   "outputs": [
    {
     "name": "stdout",
     "output_type": "stream",
     "text": [
      "names_dataset\n",
      "big-query-horse-play\n",
      "DatasetReference('big-query-horse-play', 'names_dataset')\n",
      "None\n"
     ]
    }
   ],
   "source": [
    "for dataset in datasets:\n",
    "    print(dataset.dataset_id)\n",
    "    print(dataset.project)\n",
    "    print(dataset.reference)\n",
    "    print(dataset.friendly_name)"
   ]
  },
  {
   "cell_type": "code",
   "execution_count": 12,
   "metadata": {},
   "outputs": [],
   "source": [
    "# creating a data set in BQ\n",
    "dataset_id = 'my_fake_dataset'\n",
    "\n",
    "# create the dataset reference for bq\n",
    "# Takes option project paramter if not already specified at the client level\n",
    "dataset_reference = bq_client.dataset(dataset_id)\n",
    "\n",
    "# builds dataset object\n",
    "dataset = bq.Dataset(dataset_reference)\n",
    "\n",
    "# location for the dataset\n",
    "# dataset.location = 'US'\n",
    "\n",
    "# kick off the request\n",
    "dataset = bq_client.create_dataset(dataset)  # API request"
   ]
  },
  {
   "cell_type": "code",
   "execution_count": 20,
   "metadata": {
    "collapsed": true
   },
   "outputs": [],
   "source": [
    "# Utility function for creating dataset\n",
    "# location and project are optional, need to make optional kwargs\n",
    "def create_dataset(client_name, dataset_id, dataset_location=None, project=None):\n",
    "    \n",
    "    # Creates dataset reference for bq\n",
    "    dataset_reference = client_name.dataset(dataset_id, project)\n",
    "    \n",
    "    # Creates actual data set object\n",
    "    dataset = bq.Dataset(dataset_reference)\n",
    "    \n",
    "    # Optionally sets dataset location value\n",
    "    if dataset_location:\n",
    "        dataset.location = dataset_location\n",
    "    \n",
    "    # Makes the call home\n",
    "    dataset = client_name.create_dataset(dataset)\n",
    "    \n",
    "    return f'{dataset_id} created'"
   ]
  },
  {
   "cell_type": "code",
   "execution_count": 21,
   "metadata": {
    "scrolled": false
   },
   "outputs": [
    {
     "ename": "Conflict",
     "evalue": "409 POST https://www.googleapis.com/bigquery/v2/projects/big-query-horse-play/datasets: Already Exists: Dataset big-query-horse-play:another_new_datasety",
     "output_type": "error",
     "traceback": [
      "\u001b[1;31m---------------------------------------------------------------------------\u001b[0m",
      "\u001b[1;31mConflict\u001b[0m                                  Traceback (most recent call last)",
      "\u001b[1;32m<ipython-input-21-9b508bfd7dbd>\u001b[0m in \u001b[0;36m<module>\u001b[1;34m()\u001b[0m\n\u001b[1;32m----> 1\u001b[1;33m \u001b[0mcreate_dataset\u001b[0m\u001b[1;33m(\u001b[0m\u001b[0mbq_client\u001b[0m\u001b[1;33m,\u001b[0m \u001b[1;34m'another_new_datasety'\u001b[0m\u001b[1;33m,\u001b[0m \u001b[0mdataset_location\u001b[0m\u001b[1;33m=\u001b[0m\u001b[1;34m'US'\u001b[0m\u001b[1;33m,\u001b[0m \u001b[0mproject\u001b[0m\u001b[1;33m=\u001b[0m\u001b[1;34m'big-query-horse-play'\u001b[0m\u001b[1;33m)\u001b[0m\u001b[1;33m\u001b[0m\u001b[0m\n\u001b[0m",
      "\u001b[1;32m<ipython-input-20-b2acba8217fe>\u001b[0m in \u001b[0;36mcreate_dataset\u001b[1;34m(client_name, dataset_id, dataset_location, project)\u001b[0m\n\u001b[0;32m     12\u001b[0m         \u001b[0mdataset\u001b[0m\u001b[1;33m.\u001b[0m\u001b[0mlocation\u001b[0m \u001b[1;33m=\u001b[0m \u001b[0mdataset_location\u001b[0m\u001b[1;33m\u001b[0m\u001b[0m\n\u001b[0;32m     13\u001b[0m \u001b[1;33m\u001b[0m\u001b[0m\n\u001b[1;32m---> 14\u001b[1;33m     \u001b[0mdataset\u001b[0m \u001b[1;33m=\u001b[0m \u001b[0mclient_name\u001b[0m\u001b[1;33m.\u001b[0m\u001b[0mcreate_dataset\u001b[0m\u001b[1;33m(\u001b[0m\u001b[0mdataset\u001b[0m\u001b[1;33m)\u001b[0m\u001b[1;33m\u001b[0m\u001b[0m\n\u001b[0m\u001b[0;32m     15\u001b[0m \u001b[1;33m\u001b[0m\u001b[0m\n\u001b[0;32m     16\u001b[0m     \u001b[1;32mreturn\u001b[0m \u001b[1;34mf'{dataset_id} created'\u001b[0m\u001b[1;33m\u001b[0m\u001b[0m\n",
      "\u001b[1;32mC:\\ProgramData\\Anaconda3\\lib\\site-packages\\google\\cloud\\bigquery\\client.py\u001b[0m in \u001b[0;36mcreate_dataset\u001b[1;34m(self, dataset)\u001b[0m\n\u001b[0;32m    303\u001b[0m \u001b[1;33m\u001b[0m\u001b[0m\n\u001b[0;32m    304\u001b[0m         api_response = self._connection.api_request(\n\u001b[1;32m--> 305\u001b[1;33m             method='POST', path=path, data=data)\n\u001b[0m\u001b[0;32m    306\u001b[0m \u001b[1;33m\u001b[0m\u001b[0m\n\u001b[0;32m    307\u001b[0m         \u001b[1;32mreturn\u001b[0m \u001b[0mDataset\u001b[0m\u001b[1;33m.\u001b[0m\u001b[0mfrom_api_repr\u001b[0m\u001b[1;33m(\u001b[0m\u001b[0mapi_response\u001b[0m\u001b[1;33m)\u001b[0m\u001b[1;33m\u001b[0m\u001b[0m\n",
      "\u001b[1;32mC:\\ProgramData\\Anaconda3\\lib\\site-packages\\google\\cloud\\_http.py\u001b[0m in \u001b[0;36mapi_request\u001b[1;34m(self, method, path, query_params, data, content_type, headers, api_base_url, api_version, expect_json, _target_object)\u001b[0m\n\u001b[0;32m    291\u001b[0m \u001b[1;33m\u001b[0m\u001b[0m\n\u001b[0;32m    292\u001b[0m         \u001b[1;32mif\u001b[0m \u001b[1;32mnot\u001b[0m \u001b[1;36m200\u001b[0m \u001b[1;33m<=\u001b[0m \u001b[0mresponse\u001b[0m\u001b[1;33m.\u001b[0m\u001b[0mstatus_code\u001b[0m \u001b[1;33m<\u001b[0m \u001b[1;36m300\u001b[0m\u001b[1;33m:\u001b[0m\u001b[1;33m\u001b[0m\u001b[0m\n\u001b[1;32m--> 293\u001b[1;33m             \u001b[1;32mraise\u001b[0m \u001b[0mexceptions\u001b[0m\u001b[1;33m.\u001b[0m\u001b[0mfrom_http_response\u001b[0m\u001b[1;33m(\u001b[0m\u001b[0mresponse\u001b[0m\u001b[1;33m)\u001b[0m\u001b[1;33m\u001b[0m\u001b[0m\n\u001b[0m\u001b[0;32m    294\u001b[0m \u001b[1;33m\u001b[0m\u001b[0m\n\u001b[0;32m    295\u001b[0m         \u001b[1;32mif\u001b[0m \u001b[0mexpect_json\u001b[0m \u001b[1;32mand\u001b[0m \u001b[0mresponse\u001b[0m\u001b[1;33m.\u001b[0m\u001b[0mcontent\u001b[0m\u001b[1;33m:\u001b[0m\u001b[1;33m\u001b[0m\u001b[0m\n",
      "\u001b[1;31mConflict\u001b[0m: 409 POST https://www.googleapis.com/bigquery/v2/projects/big-query-horse-play/datasets: Already Exists: Dataset big-query-horse-play:another_new_datasety"
     ]
    }
   ],
   "source": [
    "# create_dataset(bq_client, 'another_new_datasety', dataset_location='US', project='big-query-horse-play')"
   ]
  }
 ],
 "metadata": {
  "kernelspec": {
   "display_name": "Python 3",
   "language": "python",
   "name": "python3"
  },
  "language_info": {
   "codemirror_mode": {
    "name": "ipython",
    "version": 3
   },
   "file_extension": ".py",
   "mimetype": "text/x-python",
   "name": "python",
   "nbconvert_exporter": "python",
   "pygments_lexer": "ipython3",
   "version": "3.6.3"
  }
 },
 "nbformat": 4,
 "nbformat_minor": 2
}
