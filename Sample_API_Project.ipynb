{
 "cells": [
  {
   "cell_type": "code",
   "execution_count": 3,
   "metadata": {
    "collapsed": true
   },
   "outputs": [],
   "source": [
    "from google.cloud import bigquery as bq\n",
    "import os\n",
    "import pandas as pd\n",
    "import pandas_gbq as pgbq\n",
    "import util_functions as util\n",
    "\n",
    "service_credentials = 'Service_Credentials/big-query-horse-play-f37757d450b8.json'\n",
    "os.environ['GOOGLE_APPLICATION_CREDENTIALS'] = service_credentials\n",
    "\n",
    "bq_client = bq.Client()"
   ]
  },
  {
   "cell_type": "code",
   "execution_count": 5,
   "metadata": {
    "collapsed": true
   },
   "outputs": [],
   "source": [
    "sql = \"\"\"\n",
    "    SELECT\n",
    "      CONCAT(\n",
    "        'https://stackoverflow.com/questions/',\n",
    "        CAST(id as STRING)) as url,\n",
    "      view_count\n",
    "    FROM `bigquery-public-data.stackoverflow.posts_questions`\n",
    "    WHERE tags like '%google-bigquery%'\n",
    "    ORDER BY view_count DESC\n",
    "    LIMIT 10\n",
    "    \"\"\""
   ]
  },
  {
   "cell_type": "code",
   "execution_count": 6,
   "metadata": {
    "collapsed": true
   },
   "outputs": [],
   "source": [
    "# Defines the job to run\n",
    "query_job = bq_client.query(sql)\n",
    "\n",
    "# Runs it and returns the results\n",
    "results = query_job.result()"
   ]
  },
  {
   "cell_type": "code",
   "execution_count": 7,
   "metadata": {},
   "outputs": [
    {
     "name": "stdout",
     "output_type": "stream",
     "text": [
      "Row(('https://stackoverflow.com/questions/13530967', 44081), {'url': 0, 'view_count': 1})\n",
      "Row(('https://stackoverflow.com/questions/13221978', 31409), {'url': 0, 'view_count': 1})\n",
      "Row(('https://stackoverflow.com/questions/22879669', 29177), {'url': 0, 'view_count': 1})\n",
      "Row(('https://stackoverflow.com/questions/6607552', 26722), {'url': 0, 'view_count': 1})\n",
      "Row(('https://stackoverflow.com/questions/16609219', 23515), {'url': 0, 'view_count': 1})\n",
      "Row(('https://stackoverflow.com/questions/22004216', 23226), {'url': 0, 'view_count': 1})\n",
      "Row(('https://stackoverflow.com/questions/35159967', 21839), {'url': 0, 'view_count': 1})\n",
      "Row(('https://stackoverflow.com/questions/10604135', 21751), {'url': 0, 'view_count': 1})\n",
      "Row(('https://stackoverflow.com/questions/10644993', 21110), {'url': 0, 'view_count': 1})\n",
      "Row(('https://stackoverflow.com/questions/13468933', 16062), {'url': 0, 'view_count': 1})\n"
     ]
    }
   ],
   "source": [
    "# Need to iterate through the table results\n",
    "for row in results:\n",
    "    print(row)"
   ]
  },
  {
   "cell_type": "code",
   "execution_count": 11,
   "metadata": {},
   "outputs": [],
   "source": [
    "# This is where pandas comes in handy\n",
    "results_df = pd.read_gbq(sql, dialect='standard')"
   ]
  },
  {
   "cell_type": "code",
   "execution_count": 12,
   "metadata": {},
   "outputs": [
    {
     "data": {
      "text/html": [
       "<div>\n",
       "<style>\n",
       "    .dataframe thead tr:only-child th {\n",
       "        text-align: right;\n",
       "    }\n",
       "\n",
       "    .dataframe thead th {\n",
       "        text-align: left;\n",
       "    }\n",
       "\n",
       "    .dataframe tbody tr th {\n",
       "        vertical-align: top;\n",
       "    }\n",
       "</style>\n",
       "<table border=\"1\" class=\"dataframe\">\n",
       "  <thead>\n",
       "    <tr style=\"text-align: right;\">\n",
       "      <th></th>\n",
       "      <th>url</th>\n",
       "      <th>view_count</th>\n",
       "    </tr>\n",
       "  </thead>\n",
       "  <tbody>\n",
       "    <tr>\n",
       "      <th>0</th>\n",
       "      <td>https://stackoverflow.com/questions/13530967</td>\n",
       "      <td>44081</td>\n",
       "    </tr>\n",
       "    <tr>\n",
       "      <th>1</th>\n",
       "      <td>https://stackoverflow.com/questions/13221978</td>\n",
       "      <td>31409</td>\n",
       "    </tr>\n",
       "    <tr>\n",
       "      <th>2</th>\n",
       "      <td>https://stackoverflow.com/questions/22879669</td>\n",
       "      <td>29177</td>\n",
       "    </tr>\n",
       "    <tr>\n",
       "      <th>3</th>\n",
       "      <td>https://stackoverflow.com/questions/6607552</td>\n",
       "      <td>26722</td>\n",
       "    </tr>\n",
       "    <tr>\n",
       "      <th>4</th>\n",
       "      <td>https://stackoverflow.com/questions/16609219</td>\n",
       "      <td>23515</td>\n",
       "    </tr>\n",
       "    <tr>\n",
       "      <th>5</th>\n",
       "      <td>https://stackoverflow.com/questions/22004216</td>\n",
       "      <td>23226</td>\n",
       "    </tr>\n",
       "    <tr>\n",
       "      <th>6</th>\n",
       "      <td>https://stackoverflow.com/questions/35159967</td>\n",
       "      <td>21839</td>\n",
       "    </tr>\n",
       "    <tr>\n",
       "      <th>7</th>\n",
       "      <td>https://stackoverflow.com/questions/10604135</td>\n",
       "      <td>21751</td>\n",
       "    </tr>\n",
       "    <tr>\n",
       "      <th>8</th>\n",
       "      <td>https://stackoverflow.com/questions/10644993</td>\n",
       "      <td>21110</td>\n",
       "    </tr>\n",
       "    <tr>\n",
       "      <th>9</th>\n",
       "      <td>https://stackoverflow.com/questions/13468933</td>\n",
       "      <td>16062</td>\n",
       "    </tr>\n",
       "  </tbody>\n",
       "</table>\n",
       "</div>"
      ],
      "text/plain": [
       "                                            url  view_count\n",
       "0  https://stackoverflow.com/questions/13530967       44081\n",
       "1  https://stackoverflow.com/questions/13221978       31409\n",
       "2  https://stackoverflow.com/questions/22879669       29177\n",
       "3   https://stackoverflow.com/questions/6607552       26722\n",
       "4  https://stackoverflow.com/questions/16609219       23515\n",
       "5  https://stackoverflow.com/questions/22004216       23226\n",
       "6  https://stackoverflow.com/questions/35159967       21839\n",
       "7  https://stackoverflow.com/questions/10604135       21751\n",
       "8  https://stackoverflow.com/questions/10644993       21110\n",
       "9  https://stackoverflow.com/questions/13468933       16062"
      ]
     },
     "execution_count": 12,
     "metadata": {},
     "output_type": "execute_result"
    }
   ],
   "source": [
    "results_df"
   ]
  },
  {
   "cell_type": "code",
   "execution_count": 15,
   "metadata": {},
   "outputs": [
    {
     "name": "stdout",
     "output_type": "stream",
     "text": [
      "Datasets in project - big-query-horse-play:\n",
      "names_dataset\n",
      "second_test\n",
      "---------------------------------------\n",
      "Dataset ID: second_test\n",
      "Friendly Name: None\n",
      "Full ID: big-query-horse-play:second_test\n",
      "Labels: {}\n",
      "Project: big-query-horse-play\n",
      "Ref: DatasetReference('big-query-horse-play', 'second_test')\n",
      "---------------------------------------\n"
     ]
    }
   ],
   "source": [
    "# Okay, going to try loading this in\n",
    "\n",
    "dataset_ids = util.get_dataset_ids(bq_client)\n",
    "dataset = util.get_dataset(bq_client, dataset_ids[1])"
   ]
  },
  {
   "cell_type": "code",
   "execution_count": 19,
   "metadata": {},
   "outputs": [],
   "source": [
    "results_df.to_gbq('second_test.sample_table', bq_client.project)\n",
    "# Woo!\n"
   ]
  },
  {
   "cell_type": "code",
   "execution_count": 20,
   "metadata": {},
   "outputs": [
    {
     "name": "stdout",
     "output_type": "stream",
     "text": [
      "Tables in second_test:\n",
      "sample_table\n"
     ]
    },
    {
     "data": {
      "text/plain": [
       "['sample_table']"
      ]
     },
     "execution_count": 20,
     "metadata": {},
     "output_type": "execute_result"
    }
   ],
   "source": [
    "util.get_table_ids(bq_client, dataset)"
   ]
  },
  {
   "cell_type": "code",
   "execution_count": 25,
   "metadata": {},
   "outputs": [],
   "source": [
    "# Mmkay let's pull it back down from that source\n",
    "sample_table = pd.read_gbq('SELECT * FROM `big-query-horse-play.second_test.sample_table`', dialect='standard')"
   ]
  },
  {
   "cell_type": "code",
   "execution_count": 26,
   "metadata": {},
   "outputs": [
    {
     "data": {
      "text/html": [
       "<div>\n",
       "<style>\n",
       "    .dataframe thead tr:only-child th {\n",
       "        text-align: right;\n",
       "    }\n",
       "\n",
       "    .dataframe thead th {\n",
       "        text-align: left;\n",
       "    }\n",
       "\n",
       "    .dataframe tbody tr th {\n",
       "        vertical-align: top;\n",
       "    }\n",
       "</style>\n",
       "<table border=\"1\" class=\"dataframe\">\n",
       "  <thead>\n",
       "    <tr style=\"text-align: right;\">\n",
       "      <th></th>\n",
       "      <th>url</th>\n",
       "      <th>view_count</th>\n",
       "    </tr>\n",
       "  </thead>\n",
       "  <tbody>\n",
       "    <tr>\n",
       "      <th>0</th>\n",
       "      <td>https://stackoverflow.com/questions/13530967</td>\n",
       "      <td>44081</td>\n",
       "    </tr>\n",
       "    <tr>\n",
       "      <th>1</th>\n",
       "      <td>https://stackoverflow.com/questions/13221978</td>\n",
       "      <td>31409</td>\n",
       "    </tr>\n",
       "    <tr>\n",
       "      <th>2</th>\n",
       "      <td>https://stackoverflow.com/questions/22879669</td>\n",
       "      <td>29177</td>\n",
       "    </tr>\n",
       "    <tr>\n",
       "      <th>3</th>\n",
       "      <td>https://stackoverflow.com/questions/6607552</td>\n",
       "      <td>26722</td>\n",
       "    </tr>\n",
       "    <tr>\n",
       "      <th>4</th>\n",
       "      <td>https://stackoverflow.com/questions/16609219</td>\n",
       "      <td>23515</td>\n",
       "    </tr>\n",
       "    <tr>\n",
       "      <th>5</th>\n",
       "      <td>https://stackoverflow.com/questions/22004216</td>\n",
       "      <td>23226</td>\n",
       "    </tr>\n",
       "    <tr>\n",
       "      <th>6</th>\n",
       "      <td>https://stackoverflow.com/questions/35159967</td>\n",
       "      <td>21839</td>\n",
       "    </tr>\n",
       "    <tr>\n",
       "      <th>7</th>\n",
       "      <td>https://stackoverflow.com/questions/10604135</td>\n",
       "      <td>21751</td>\n",
       "    </tr>\n",
       "    <tr>\n",
       "      <th>8</th>\n",
       "      <td>https://stackoverflow.com/questions/10644993</td>\n",
       "      <td>21110</td>\n",
       "    </tr>\n",
       "    <tr>\n",
       "      <th>9</th>\n",
       "      <td>https://stackoverflow.com/questions/13468933</td>\n",
       "      <td>16062</td>\n",
       "    </tr>\n",
       "  </tbody>\n",
       "</table>\n",
       "</div>"
      ],
      "text/plain": [
       "                                            url  view_count\n",
       "0  https://stackoverflow.com/questions/13530967       44081\n",
       "1  https://stackoverflow.com/questions/13221978       31409\n",
       "2  https://stackoverflow.com/questions/22879669       29177\n",
       "3   https://stackoverflow.com/questions/6607552       26722\n",
       "4  https://stackoverflow.com/questions/16609219       23515\n",
       "5  https://stackoverflow.com/questions/22004216       23226\n",
       "6  https://stackoverflow.com/questions/35159967       21839\n",
       "7  https://stackoverflow.com/questions/10604135       21751\n",
       "8  https://stackoverflow.com/questions/10644993       21110\n",
       "9  https://stackoverflow.com/questions/13468933       16062"
      ]
     },
     "execution_count": 26,
     "metadata": {},
     "output_type": "execute_result"
    }
   ],
   "source": [
    "sample_table"
   ]
  }
 ],
 "metadata": {
  "kernelspec": {
   "display_name": "Python 3",
   "language": "python",
   "name": "python3"
  },
  "language_info": {
   "codemirror_mode": {
    "name": "ipython",
    "version": 3
   },
   "file_extension": ".py",
   "mimetype": "text/x-python",
   "name": "python",
   "nbconvert_exporter": "python",
   "pygments_lexer": "ipython3",
   "version": "3.6.3"
  }
 },
 "nbformat": 4,
 "nbformat_minor": 2
}
