{
 "cells": [
  {
   "cell_type": "code",
   "execution_count": 2,
   "metadata": {
    "collapsed": true
   },
   "outputs": [],
   "source": [
    "from google.cloud import bigquery as bq\n",
    "from pathlib import Path\n",
    "import os\n",
    "import pandas as pd\n",
    "import pandas_gbq as pgbq\n",
    "import util_functions as util\n",
    "\n",
    "service_credentials = 'Service_Credentials/big-query-horse-play-f37757d450b8.json'\n",
    "os.environ['GOOGLE_APPLICATION_CREDENTIALS'] = service_credentials\n",
    "\n",
    "bq_client = bq.Client()"
   ]
  },
  {
   "cell_type": "code",
   "execution_count": 4,
   "metadata": {},
   "outputs": [
    {
     "name": "stdout",
     "output_type": "stream",
     "text": [
      "<class 'pandas.core.frame.DataFrame'>\n",
      "RangeIndex: 33268 entries, 0 to 33267\n",
      "Data columns (total 3 columns):\n",
      "Sophia    33268 non-null object\n",
      "F         33268 non-null object\n",
      "21213     33268 non-null int64\n",
      "dtypes: int64(1), object(2)\n",
      "memory usage: 779.8+ KB\n"
     ]
    }
   ],
   "source": [
    "test_df = pd.read_csv('public_names_data_set/yob2013.txt')\n",
    "test_df.head()\n",
    "test_df.info()"
   ]
  },
  {
   "cell_type": "code",
   "execution_count": 3,
   "metadata": {
    "collapsed": true
   },
   "outputs": [],
   "source": [
    "file_list = Path('public_names_data_set/').glob('*.txt')\n",
    "\n",
    "file_list\n",
    "\n",
    "names_df = pd.concat([pd.read_csv(file, header=None) for file in file_list], ignore_index=True, axis=0)\n",
    "\n",
    "names_df.columns = ['Name', 'Gender', 'Count']"
   ]
  },
  {
   "cell_type": "code",
   "execution_count": 4,
   "metadata": {},
   "outputs": [
    {
     "name": "stdout",
     "output_type": "stream",
     "text": [
      "<class 'pandas.core.frame.DataFrame'>\n",
      "RangeIndex: 165043 entries, 0 to 165042\n",
      "Data columns (total 3 columns):\n",
      "Name      165043 non-null object\n",
      "Gender    165043 non-null object\n",
      "Count     165043 non-null int64\n",
      "dtypes: int64(1), object(2)\n",
      "memory usage: 3.8+ MB\n"
     ]
    },
    {
     "data": {
      "text/html": [
       "<div>\n",
       "<style>\n",
       "    .dataframe thead tr:only-child th {\n",
       "        text-align: right;\n",
       "    }\n",
       "\n",
       "    .dataframe thead th {\n",
       "        text-align: left;\n",
       "    }\n",
       "\n",
       "    .dataframe tbody tr th {\n",
       "        vertical-align: top;\n",
       "    }\n",
       "</style>\n",
       "<table border=\"1\" class=\"dataframe\">\n",
       "  <thead>\n",
       "    <tr style=\"text-align: right;\">\n",
       "      <th></th>\n",
       "      <th>Count</th>\n",
       "    </tr>\n",
       "    <tr>\n",
       "      <th>Gender</th>\n",
       "      <th></th>\n",
       "    </tr>\n",
       "  </thead>\n",
       "  <tbody>\n",
       "    <tr>\n",
       "      <th>F</th>\n",
       "      <td>5759</td>\n",
       "    </tr>\n",
       "    <tr>\n",
       "      <th>M</th>\n",
       "      <td>31068</td>\n",
       "    </tr>\n",
       "  </tbody>\n",
       "</table>\n",
       "</div>"
      ],
      "text/plain": [
       "        Count\n",
       "Gender       \n",
       "F        5759\n",
       "M       31068"
      ]
     },
     "execution_count": 4,
     "metadata": {},
     "output_type": "execute_result"
    }
   ],
   "source": [
    "names_df.tail()\n",
    "names_df.info()\n",
    "names_df[names_df.Name == 'Jordan']\n",
    "\n",
    "names_aggr = names_df.groupby(by=['Name', 'Gender']).sum()\n",
    "\n",
    "names_aggr.loc['Jordan', :]"
   ]
  },
  {
   "cell_type": "code",
   "execution_count": 5,
   "metadata": {},
   "outputs": [
    {
     "name": "stdout",
     "output_type": "stream",
     "text": [
      "Datasets in project - big-query-horse-play:\n",
      "names_dataset\n",
      "second_test\n"
     ]
    },
    {
     "data": {
      "text/plain": [
       "['names_dataset', 'second_test']"
      ]
     },
     "execution_count": 5,
     "metadata": {},
     "output_type": "execute_result"
    }
   ],
   "source": [
    "util.get_dataset_ids(bq_client)"
   ]
  },
  {
   "cell_type": "code",
   "execution_count": 44,
   "metadata": {
    "collapsed": true
   },
   "outputs": [],
   "source": [
    "pgbq.to_gbq(names_df, 'second_test.test_upload_table', project_id=bq_client.project)"
   ]
  },
  {
   "cell_type": "code",
   "execution_count": 45,
   "metadata": {},
   "outputs": [
    {
     "name": "stdout",
     "output_type": "stream",
     "text": [
      "Datasets in project - big-query-horse-play:\n",
      "names_dataset\n",
      "second_test\n",
      "---------------------------------------\n",
      "Dataset ID: second_test\n",
      "Friendly Name: None\n",
      "Full ID: big-query-horse-play:second_test\n",
      "Labels: {}\n",
      "Project: big-query-horse-play\n",
      "Ref: DatasetReference('big-query-horse-play', 'second_test')\n",
      "---------------------------------------\n",
      "Tables in second_test:\n",
      "sample_table\n",
      "test_upload_table\n"
     ]
    },
    {
     "data": {
      "text/plain": [
       "['sample_table', 'test_upload_table']"
      ]
     },
     "execution_count": 45,
     "metadata": {},
     "output_type": "execute_result"
    }
   ],
   "source": [
    "util.get_table_ids(bq_client, util.get_dataset(bq_client, util.get_dataset_ids(bq_client)[1]))"
   ]
  },
  {
   "cell_type": "code",
   "execution_count": null,
   "metadata": {
    "collapsed": true
   },
   "outputs": [],
   "source": [
    "util.create_dataset"
   ]
  }
 ],
 "metadata": {
  "kernelspec": {
   "display_name": "Python 3",
   "language": "python",
   "name": "python3"
  },
  "language_info": {
   "codemirror_mode": {
    "name": "ipython",
    "version": 3
   },
   "file_extension": ".py",
   "mimetype": "text/x-python",
   "name": "python",
   "nbconvert_exporter": "python",
   "pygments_lexer": "ipython3",
   "version": "3.6.3"
  }
 },
 "nbformat": 4,
 "nbformat_minor": 2
}
