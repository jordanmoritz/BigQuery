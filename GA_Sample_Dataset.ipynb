{
 "cells": [
  {
   "cell_type": "code",
   "execution_count": 1,
   "metadata": {
    "collapsed": true
   },
   "outputs": [],
   "source": [
    "from google.cloud import bigquery as bq\n",
    "import os\n",
    "import pandas as pd\n",
    "import pandas_gbq as pgbq\n",
    "import util_functions as util\n",
    "import matplotlib.pyplot as plt\n",
    "\n",
    "%matplotlib inline\n",
    "\n",
    "if os.environ['COMPUTERNAME'] == 'DESKTOP-9KG2MPJ':\n",
    "    service_credentials = 'Service_Credentials/Big Query Horse Play-f8b9319b2129.json'\n",
    "else:\n",
    "    service_credentials = 'Service_Credentials/big-query-horse-play-f37757d450b8.json'\n",
    "\n",
    "os.environ['GOOGLE_APPLICATION_CREDENTIALS'] = service_credentials\n",
    "\n",
    "ga_data_client = bq.Client(project='bigquery-public-data')"
   ]
  },
  {
   "cell_type": "code",
   "execution_count": null,
   "metadata": {
    "collapsed": true,
    "scrolled": true
   },
   "outputs": [],
   "source": [
    "ga_dataset_ref = util.get_dataset(ga_data_client, 'google_analytics_sample')"
   ]
  },
  {
   "cell_type": "code",
   "execution_count": 43,
   "metadata": {
    "collapsed": true
   },
   "outputs": [],
   "source": [
    "# Simple query to ensure I'm getting data out\n",
    "query = (\n",
    "\"\"\"\n",
    "SELECT\n",
    "    #visitId,\n",
    "    trafficSource.campaign,\n",
    "    device.deviceCategory,\n",
    "    SUM(totals.visits) AS Visits,\n",
    "    SUM(totals.pageviews) AS PVs,\n",
    "    SUM(totals.newVisits) AS NewVisits\n",
    "FROM `bigquery-public-data.google_analytics_sample.ga_sessions_20170101`\n",
    "WHERE\n",
    "    trafficSource.campaign != \"(not set)\"\n",
    "GROUP BY\n",
    "    #visitId,\n",
    "    trafficSource.campaign,\n",
    "    device.deviceCategory\n",
    "\"\"\")"
   ]
  },
  {
   "cell_type": "code",
   "execution_count": 44,
   "metadata": {
    "collapsed": true
   },
   "outputs": [],
   "source": [
    "df = pgbq.read_gbq(query, dialect='standard')"
   ]
  },
  {
   "cell_type": "code",
   "execution_count": 45,
   "metadata": {},
   "outputs": [
    {
     "data": {
      "text/html": [
       "<div>\n",
       "<style>\n",
       "    .dataframe thead tr:only-child th {\n",
       "        text-align: right;\n",
       "    }\n",
       "\n",
       "    .dataframe thead th {\n",
       "        text-align: left;\n",
       "    }\n",
       "\n",
       "    .dataframe tbody tr th {\n",
       "        vertical-align: top;\n",
       "    }\n",
       "</style>\n",
       "<table border=\"1\" class=\"dataframe\">\n",
       "  <thead>\n",
       "    <tr style=\"text-align: right;\">\n",
       "      <th></th>\n",
       "      <th>campaign</th>\n",
       "      <th>deviceCategory</th>\n",
       "      <th>Visits</th>\n",
       "      <th>PVs</th>\n",
       "      <th>NewVisits</th>\n",
       "    </tr>\n",
       "  </thead>\n",
       "  <tbody>\n",
       "    <tr>\n",
       "      <th>0</th>\n",
       "      <td>Data Share Promo</td>\n",
       "      <td>desktop</td>\n",
       "      <td>6</td>\n",
       "      <td>17</td>\n",
       "      <td>4</td>\n",
       "    </tr>\n",
       "    <tr>\n",
       "      <th>1</th>\n",
       "      <td>AW - Dynamic Search Ads Whole Site</td>\n",
       "      <td>desktop</td>\n",
       "      <td>22</td>\n",
       "      <td>110</td>\n",
       "      <td>17</td>\n",
       "    </tr>\n",
       "    <tr>\n",
       "      <th>2</th>\n",
       "      <td>AW - Dynamic Search Ads Whole Site</td>\n",
       "      <td>tablet</td>\n",
       "      <td>8</td>\n",
       "      <td>52</td>\n",
       "      <td>6</td>\n",
       "    </tr>\n",
       "    <tr>\n",
       "      <th>3</th>\n",
       "      <td>Data Share Promo</td>\n",
       "      <td>tablet</td>\n",
       "      <td>1</td>\n",
       "      <td>4</td>\n",
       "      <td>1</td>\n",
       "    </tr>\n",
       "    <tr>\n",
       "      <th>4</th>\n",
       "      <td>AW - Dynamic Search Ads Whole Site</td>\n",
       "      <td>mobile</td>\n",
       "      <td>17</td>\n",
       "      <td>105</td>\n",
       "      <td>13</td>\n",
       "    </tr>\n",
       "    <tr>\n",
       "      <th>5</th>\n",
       "      <td>Data Share Promo</td>\n",
       "      <td>mobile</td>\n",
       "      <td>5</td>\n",
       "      <td>42</td>\n",
       "      <td>3</td>\n",
       "    </tr>\n",
       "  </tbody>\n",
       "</table>\n",
       "</div>"
      ],
      "text/plain": [
       "                             campaign deviceCategory  Visits  PVs  NewVisits\n",
       "0                    Data Share Promo        desktop       6   17          4\n",
       "1  AW - Dynamic Search Ads Whole Site        desktop      22  110         17\n",
       "2  AW - Dynamic Search Ads Whole Site         tablet       8   52          6\n",
       "3                    Data Share Promo         tablet       1    4          1\n",
       "4  AW - Dynamic Search Ads Whole Site         mobile      17  105         13\n",
       "5                    Data Share Promo         mobile       5   42          3"
      ]
     },
     "execution_count": 45,
     "metadata": {},
     "output_type": "execute_result"
    }
   ],
   "source": [
    "df"
   ]
  },
  {
   "cell_type": "code",
   "execution_count": 18,
   "metadata": {
    "collapsed": true
   },
   "outputs": [],
   "source": [
    "# Testing partitioned tables and table suffix\n",
    "query_mult_days = (\n",
    "\"\"\"\n",
    "SELECT\n",
    "    date,\n",
    "    device.deviceCategory,\n",
    "    SUM(totals.visits) AS Visits,\n",
    "    SUM(totals.pageviews) AS PVs,\n",
    "    SUM(totals.newVisits) AS NewVisits\n",
    "FROM `bigquery-public-data.google_analytics_sample.ga_sessions_*`\n",
    "WHERE\n",
    "    _TABLE_SUFFIX BETWEEN '20170101'\n",
    "    AND\n",
    "    '20170105'\n",
    "GROUP BY\n",
    "    date,\n",
    "    device.deviceCategory\n",
    "ORDER BY\n",
    "    date ASC,\n",
    "    Visits DESC\n",
    "\"\"\")"
   ]
  },
  {
   "cell_type": "code",
   "execution_count": 19,
   "metadata": {
    "collapsed": true
   },
   "outputs": [],
   "source": [
    "mult_day_df = pgbq.read_gbq(query_mult_days, dialect='standard')"
   ]
  },
  {
   "cell_type": "code",
   "execution_count": 22,
   "metadata": {},
   "outputs": [
    {
     "data": {
      "text/html": [
       "<div>\n",
       "<style>\n",
       "    .dataframe thead tr:only-child th {\n",
       "        text-align: right;\n",
       "    }\n",
       "\n",
       "    .dataframe thead th {\n",
       "        text-align: left;\n",
       "    }\n",
       "\n",
       "    .dataframe tbody tr th {\n",
       "        vertical-align: top;\n",
       "    }\n",
       "</style>\n",
       "<table border=\"1\" class=\"dataframe\">\n",
       "  <thead>\n",
       "    <tr style=\"text-align: right;\">\n",
       "      <th></th>\n",
       "      <th>date</th>\n",
       "      <th>deviceCategory</th>\n",
       "      <th>Visits</th>\n",
       "      <th>PVs</th>\n",
       "      <th>NewVisits</th>\n",
       "    </tr>\n",
       "  </thead>\n",
       "  <tbody>\n",
       "    <tr>\n",
       "      <th>0</th>\n",
       "      <td>20170101</td>\n",
       "      <td>desktop</td>\n",
       "      <td>759</td>\n",
       "      <td>3246</td>\n",
       "      <td>576</td>\n",
       "    </tr>\n",
       "    <tr>\n",
       "      <th>1</th>\n",
       "      <td>20170101</td>\n",
       "      <td>mobile</td>\n",
       "      <td>503</td>\n",
       "      <td>1678</td>\n",
       "      <td>390</td>\n",
       "    </tr>\n",
       "    <tr>\n",
       "      <th>2</th>\n",
       "      <td>20170101</td>\n",
       "      <td>tablet</td>\n",
       "      <td>102</td>\n",
       "      <td>438</td>\n",
       "      <td>76</td>\n",
       "    </tr>\n",
       "  </tbody>\n",
       "</table>\n",
       "</div>"
      ],
      "text/plain": [
       "       date deviceCategory  Visits   PVs  NewVisits\n",
       "0  20170101        desktop     759  3246        576\n",
       "1  20170101         mobile     503  1678        390\n",
       "2  20170101         tablet     102   438         76"
      ]
     },
     "execution_count": 22,
     "metadata": {},
     "output_type": "execute_result"
    }
   ],
   "source": [
    "mult_day_df.head(3)"
   ]
  },
  {
   "cell_type": "code",
   "execution_count": 12,
   "metadata": {
    "collapsed": true
   },
   "outputs": [],
   "source": [
    "# Vs same thing using UNION ALL\n",
    "query_mult_days_union = (\n",
    "\"\"\"\n",
    "WITH mult_ga_table AS (\n",
    "    SELECT\n",
    "        date,\n",
    "        device.deviceCategory,\n",
    "        SUM(totals.visits) AS Visits,\n",
    "        SUM(totals.pageviews) AS PVs,\n",
    "        SUM(totals.newVisits) AS NewVisits\n",
    "    FROM `bigquery-public-data.google_analytics_sample.ga_sessions_20170101`\n",
    "    GROUP BY\n",
    "        date,\n",
    "        device.deviceCategory\n",
    "    \n",
    "    UNION ALL\n",
    "    \n",
    "    SELECT\n",
    "        date,\n",
    "        device.deviceCategory,\n",
    "        SUM(totals.visits) AS Visits,\n",
    "        SUM(totals.pageviews) AS PVs,\n",
    "        SUM(totals.newVisits) AS NewVisits\n",
    "    FROM `bigquery-public-data.google_analytics_sample.ga_sessions_20170102`\n",
    "    GROUP BY\n",
    "        date,\n",
    "        device.deviceCategory\n",
    "    )\n",
    "\n",
    "SELECT *\n",
    "FROM mult_ga_table\n",
    "ORDER BY\n",
    "    date ASC,\n",
    "    Visits DESC\n",
    "\"\"\")\n",
    "# Way less efficient from a writing perspective (maybe more performant?)"
   ]
  },
  {
   "cell_type": "code",
   "execution_count": 13,
   "metadata": {
    "collapsed": true
   },
   "outputs": [],
   "source": [
    "ga_mult_day_df = pgbq.read_gbq(query_mult_days_union, dialect='standard')"
   ]
  },
  {
   "cell_type": "code",
   "execution_count": 21,
   "metadata": {},
   "outputs": [
    {
     "data": {
      "text/html": [
       "<div>\n",
       "<style>\n",
       "    .dataframe thead tr:only-child th {\n",
       "        text-align: right;\n",
       "    }\n",
       "\n",
       "    .dataframe thead th {\n",
       "        text-align: left;\n",
       "    }\n",
       "\n",
       "    .dataframe tbody tr th {\n",
       "        vertical-align: top;\n",
       "    }\n",
       "</style>\n",
       "<table border=\"1\" class=\"dataframe\">\n",
       "  <thead>\n",
       "    <tr style=\"text-align: right;\">\n",
       "      <th></th>\n",
       "      <th>date</th>\n",
       "      <th>deviceCategory</th>\n",
       "      <th>Visits</th>\n",
       "      <th>PVs</th>\n",
       "      <th>NewVisits</th>\n",
       "    </tr>\n",
       "  </thead>\n",
       "  <tbody>\n",
       "    <tr>\n",
       "      <th>0</th>\n",
       "      <td>20170101</td>\n",
       "      <td>desktop</td>\n",
       "      <td>759</td>\n",
       "      <td>3246</td>\n",
       "      <td>576</td>\n",
       "    </tr>\n",
       "    <tr>\n",
       "      <th>1</th>\n",
       "      <td>20170101</td>\n",
       "      <td>mobile</td>\n",
       "      <td>503</td>\n",
       "      <td>1678</td>\n",
       "      <td>390</td>\n",
       "    </tr>\n",
       "    <tr>\n",
       "      <th>2</th>\n",
       "      <td>20170101</td>\n",
       "      <td>tablet</td>\n",
       "      <td>102</td>\n",
       "      <td>438</td>\n",
       "      <td>76</td>\n",
       "    </tr>\n",
       "  </tbody>\n",
       "</table>\n",
       "</div>"
      ],
      "text/plain": [
       "       date deviceCategory  Visits   PVs  NewVisits\n",
       "0  20170101        desktop     759  3246        576\n",
       "1  20170101         mobile     503  1678        390\n",
       "2  20170101         tablet     102   438         76"
      ]
     },
     "execution_count": 21,
     "metadata": {},
     "output_type": "execute_result"
    }
   ],
   "source": [
    "ga_mult_day_df.head(3)"
   ]
  },
  {
   "cell_type": "code",
   "execution_count": 37,
   "metadata": {},
   "outputs": [
    {
     "data": {
      "text/plain": [
       "True"
      ]
     },
     "execution_count": 37,
     "metadata": {},
     "output_type": "execute_result"
    }
   ],
   "source": [
    "# Quick check that it returns similar data\n",
    "table_suffix_sum = ga_mult_day_df[ga_mult_day_df['date'] == '20170101'].loc[:,\"Visits\"].sum()\n",
    "union_table_sum = mult_day_df[mult_day_df['date'] == '20170101'].loc[:,\"Visits\"].sum()\n",
    "\n",
    "table_suffix_sum == union_table_sum"
   ]
  },
  {
   "cell_type": "code",
   "execution_count": 63,
   "metadata": {
    "collapsed": true
   },
   "outputs": [],
   "source": [
    "# Hit sequence to hopefully get a feel for flattening\n",
    "sequence_query = (\n",
    "\"\"\"\n",
    "SELECT\n",
    "    fullVisitorId,\n",
    "    visitId,\n",
    "    visitNumber,\n",
    "    hits.hitNumber AS hitNumber,\n",
    "    hits.page.pagePath AS pagePath\n",
    "FROM\n",
    "    `bigquery-public-data.google_analytics_sample.ga_sessions_*`,\n",
    "    UNNEST(hits) as hits\n",
    "WHERE\n",
    "    _TABLE_SUFFIX BETWEEN '20170701' AND '20170702'\n",
    "AND\n",
    "    hits.type=\"PAGE\"\n",
    "ORDER BY\n",
    "    fullVisitorId,\n",
    "    visitId,\n",
    "    visitNumber,\n",
    "    hitNumber\n",
    "\"\"\")"
   ]
  },
  {
   "cell_type": "code",
   "execution_count": null,
   "metadata": {},
   "outputs": [],
   "source": [
    "sequence_df = pgbq.read_gbq(sequence_query, dialect='standard')"
   ]
  },
  {
   "cell_type": "code",
   "execution_count": null,
   "metadata": {},
   "outputs": [],
   "source": [
    "sequence_df.head(10)"
   ]
  },
  {
   "cell_type": "code",
   "execution_count": 56,
   "metadata": {
    "collapsed": true
   },
   "outputs": [],
   "source": [
    "# Working on getting event data to define conversion as a metric (sessions where hit of xyz event >= 1)\n",
    "event_query = (\n",
    "\"\"\"\n",
    "SELECT\n",
    "    #visitId,\n",
    "    trafficSource.campaign,\n",
    "    device.deviceCategory,\n",
    "    hits.eventInfo.eventCategory as EventCategory,\n",
    "    hits.eventInfo.eventAction as EventAction,\n",
    "    hits.eventInfo.eventLabel as EventLabel,\n",
    "    SUM(totals.visits) AS Visits,\n",
    "    SUM(totals.pageviews) AS PVs,\n",
    "    SUM(totals.newVisits) AS NewVisits\n",
    "FROM\n",
    "    `bigquery-public-data.google_analytics_sample.ga_sessions_20170101`,\n",
    "    UNNEST(hits) as hits\n",
    "WHERE\n",
    "    trafficSource.campaign != \"(not set)\"\n",
    "    AND \n",
    "    hits.eventInfo.eventLabel != \"None\"\n",
    "GROUP BY\n",
    "    #visitId,\n",
    "    trafficSource.campaign,\n",
    "    device.deviceCategory,\n",
    "    EventCategory,\n",
    "    EventAction,\n",
    "    EventLabel\n",
    "\"\"\")"
   ]
  },
  {
   "cell_type": "code",
   "execution_count": 57,
   "metadata": {},
   "outputs": [],
   "source": [
    "event_hit_df = pgbq.read_gbq(event_query, dialect='standard')\n",
    "# Need to utilize unnest to access the array data type"
   ]
  },
  {
   "cell_type": "code",
   "execution_count": 58,
   "metadata": {},
   "outputs": [
    {
     "data": {
      "text/html": [
       "<div>\n",
       "<style>\n",
       "    .dataframe thead tr:only-child th {\n",
       "        text-align: right;\n",
       "    }\n",
       "\n",
       "    .dataframe thead th {\n",
       "        text-align: left;\n",
       "    }\n",
       "\n",
       "    .dataframe tbody tr th {\n",
       "        vertical-align: top;\n",
       "    }\n",
       "</style>\n",
       "<table border=\"1\" class=\"dataframe\">\n",
       "  <thead>\n",
       "    <tr style=\"text-align: right;\">\n",
       "      <th></th>\n",
       "      <th>campaign</th>\n",
       "      <th>deviceCategory</th>\n",
       "      <th>EventCategory</th>\n",
       "      <th>EventAction</th>\n",
       "      <th>EventLabel</th>\n",
       "      <th>Visits</th>\n",
       "      <th>PVs</th>\n",
       "      <th>NewVisits</th>\n",
       "    </tr>\n",
       "  </thead>\n",
       "  <tbody>\n",
       "    <tr>\n",
       "      <th>0</th>\n",
       "      <td>Data Share Promo</td>\n",
       "      <td>tablet</td>\n",
       "      <td>Enhanced Ecommerce</td>\n",
       "      <td>Quickview Click</td>\n",
       "      <td>Google Tube Power Bank</td>\n",
       "      <td>1</td>\n",
       "      <td>4</td>\n",
       "      <td>1</td>\n",
       "    </tr>\n",
       "    <tr>\n",
       "      <th>1</th>\n",
       "      <td>Data Share Promo</td>\n",
       "      <td>mobile</td>\n",
       "      <td>Enhanced Ecommerce</td>\n",
       "      <td>Quickview Click</td>\n",
       "      <td>Windup Android</td>\n",
       "      <td>1</td>\n",
       "      <td>24</td>\n",
       "      <td>1</td>\n",
       "    </tr>\n",
       "    <tr>\n",
       "      <th>2</th>\n",
       "      <td>Data Share Promo</td>\n",
       "      <td>mobile</td>\n",
       "      <td>Enhanced Ecommerce</td>\n",
       "      <td>Quickview Click</td>\n",
       "      <td>Recycled Mouse Pad</td>\n",
       "      <td>1</td>\n",
       "      <td>24</td>\n",
       "      <td>1</td>\n",
       "    </tr>\n",
       "    <tr>\n",
       "      <th>3</th>\n",
       "      <td>AW - Dynamic Search Ads Whole Site</td>\n",
       "      <td>mobile</td>\n",
       "      <td>Enhanced Ecommerce</td>\n",
       "      <td>Quickview Click</td>\n",
       "      <td>Google Water Resistant Bluetooth Speaker</td>\n",
       "      <td>1</td>\n",
       "      <td>6</td>\n",
       "      <td>1</td>\n",
       "    </tr>\n",
       "    <tr>\n",
       "      <th>4</th>\n",
       "      <td>AW - Dynamic Search Ads Whole Site</td>\n",
       "      <td>mobile</td>\n",
       "      <td>Enhanced Ecommerce</td>\n",
       "      <td>Quickview Click</td>\n",
       "      <td>YouTube Leatherette Notebook Combo</td>\n",
       "      <td>1</td>\n",
       "      <td>7</td>\n",
       "      <td>1</td>\n",
       "    </tr>\n",
       "  </tbody>\n",
       "</table>\n",
       "</div>"
      ],
      "text/plain": [
       "                             campaign deviceCategory       EventCategory  \\\n",
       "0                    Data Share Promo         tablet  Enhanced Ecommerce   \n",
       "1                    Data Share Promo         mobile  Enhanced Ecommerce   \n",
       "2                    Data Share Promo         mobile  Enhanced Ecommerce   \n",
       "3  AW - Dynamic Search Ads Whole Site         mobile  Enhanced Ecommerce   \n",
       "4  AW - Dynamic Search Ads Whole Site         mobile  Enhanced Ecommerce   \n",
       "\n",
       "       EventAction                                EventLabel  Visits  PVs  \\\n",
       "0  Quickview Click                    Google Tube Power Bank       1    4   \n",
       "1  Quickview Click                            Windup Android       1   24   \n",
       "2  Quickview Click                        Recycled Mouse Pad       1   24   \n",
       "3  Quickview Click  Google Water Resistant Bluetooth Speaker       1    6   \n",
       "4  Quickview Click        YouTube Leatherette Notebook Combo       1    7   \n",
       "\n",
       "  NewVisits  \n",
       "0         1  \n",
       "1         1  \n",
       "2         1  \n",
       "3         1  \n",
       "4         1  "
      ]
     },
     "execution_count": 58,
     "metadata": {},
     "output_type": "execute_result"
    }
   ],
   "source": [
    "# So apparently you just unnest the hits in the from statement?\n",
    "event_hit_df.head()"
   ]
  }
 ],
 "metadata": {
  "kernelspec": {
   "display_name": "Python 3",
   "language": "python",
   "name": "python3"
  },
  "language_info": {
   "codemirror_mode": {
    "name": "ipython",
    "version": 3
   },
   "file_extension": ".py",
   "mimetype": "text/x-python",
   "name": "python",
   "nbconvert_exporter": "python",
   "pygments_lexer": "ipython3",
   "version": "3.6.6"
  }
 },
 "nbformat": 4,
 "nbformat_minor": 2
}
