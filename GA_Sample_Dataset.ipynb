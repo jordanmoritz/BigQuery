{
 "cells": [
  {
   "cell_type": "code",
   "execution_count": 1,
   "metadata": {
    "collapsed": true
   },
   "outputs": [],
   "source": [
    "from google.cloud import bigquery as bq\n",
    "import os\n",
    "import pandas as pd\n",
    "import pandas_gbq as pgbq\n",
    "import util_functions as util\n",
    "import matplotlib.pyplot as plt\n",
    "\n",
    "%matplotlib inline\n",
    "\n",
    "if os.environ['COMPUTERNAME'] == 'DESKTOP-9KG2MPJ':\n",
    "    service_credentials = 'Service_Credentials/Big Query Horse Play-f8b9319b2129.json'\n",
    "else:\n",
    "    service_credentials = 'Service_Credentials/big-query-horse-play-f37757d450b8.json'\n",
    "\n",
    "os.environ['GOOGLE_APPLICATION_CREDENTIALS'] = service_credentials\n",
    "\n",
    "ga_data_client = bq.Client(project='bigquery-public-data')"
   ]
  },
  {
   "cell_type": "code",
   "execution_count": null,
   "metadata": {
    "collapsed": true,
    "scrolled": true
   },
   "outputs": [],
   "source": [
    "ga_dataset_ref = util.get_dataset(ga_data_client, 'google_analytics_sample')"
   ]
  },
  {
   "cell_type": "code",
   "execution_count": 43,
   "metadata": {
    "collapsed": true
   },
   "outputs": [],
   "source": [
    "# Simple query to ensure I'm getting data out\n",
    "query = (\n",
    "\"\"\"\n",
    "SELECT\n",
    "    #visitId,\n",
    "    trafficSource.campaign,\n",
    "    device.deviceCategory,\n",
    "    SUM(totals.visits) AS Visits,\n",
    "    SUM(totals.pageviews) AS PVs,\n",
    "    SUM(totals.newVisits) AS NewVisits\n",
    "FROM `bigquery-public-data.google_analytics_sample.ga_sessions_20170101`\n",
    "WHERE\n",
    "    trafficSource.campaign != \"(not set)\"\n",
    "GROUP BY\n",
    "    #visitId,\n",
    "    trafficSource.campaign,\n",
    "    device.deviceCategory\n",
    "\"\"\")"
   ]
  },
  {
   "cell_type": "code",
   "execution_count": 44,
   "metadata": {
    "collapsed": true
   },
   "outputs": [],
   "source": [
    "df = pgbq.read_gbq(query, dialect='standard')"
   ]
  },
  {
   "cell_type": "code",
   "execution_count": 45,
   "metadata": {},
   "outputs": [
    {
     "data": {
      "text/html": [
       "<div>\n",
       "<style>\n",
       "    .dataframe thead tr:only-child th {\n",
       "        text-align: right;\n",
       "    }\n",
       "\n",
       "    .dataframe thead th {\n",
       "        text-align: left;\n",
       "    }\n",
       "\n",
       "    .dataframe tbody tr th {\n",
       "        vertical-align: top;\n",
       "    }\n",
       "</style>\n",
       "<table border=\"1\" class=\"dataframe\">\n",
       "  <thead>\n",
       "    <tr style=\"text-align: right;\">\n",
       "      <th></th>\n",
       "      <th>campaign</th>\n",
       "      <th>deviceCategory</th>\n",
       "      <th>Visits</th>\n",
       "      <th>PVs</th>\n",
       "      <th>NewVisits</th>\n",
       "    </tr>\n",
       "  </thead>\n",
       "  <tbody>\n",
       "    <tr>\n",
       "      <th>0</th>\n",
       "      <td>Data Share Promo</td>\n",
       "      <td>desktop</td>\n",
       "      <td>6</td>\n",
       "      <td>17</td>\n",
       "      <td>4</td>\n",
       "    </tr>\n",
       "    <tr>\n",
       "      <th>1</th>\n",
       "      <td>AW - Dynamic Search Ads Whole Site</td>\n",
       "      <td>desktop</td>\n",
       "      <td>22</td>\n",
       "      <td>110</td>\n",
       "      <td>17</td>\n",
       "    </tr>\n",
       "    <tr>\n",
       "      <th>2</th>\n",
       "      <td>AW - Dynamic Search Ads Whole Site</td>\n",
       "      <td>tablet</td>\n",
       "      <td>8</td>\n",
       "      <td>52</td>\n",
       "      <td>6</td>\n",
       "    </tr>\n",
       "    <tr>\n",
       "      <th>3</th>\n",
       "      <td>Data Share Promo</td>\n",
       "      <td>tablet</td>\n",
       "      <td>1</td>\n",
       "      <td>4</td>\n",
       "      <td>1</td>\n",
       "    </tr>\n",
       "    <tr>\n",
       "      <th>4</th>\n",
       "      <td>AW - Dynamic Search Ads Whole Site</td>\n",
       "      <td>mobile</td>\n",
       "      <td>17</td>\n",
       "      <td>105</td>\n",
       "      <td>13</td>\n",
       "    </tr>\n",
       "    <tr>\n",
       "      <th>5</th>\n",
       "      <td>Data Share Promo</td>\n",
       "      <td>mobile</td>\n",
       "      <td>5</td>\n",
       "      <td>42</td>\n",
       "      <td>3</td>\n",
       "    </tr>\n",
       "  </tbody>\n",
       "</table>\n",
       "</div>"
      ],
      "text/plain": [
       "                             campaign deviceCategory  Visits  PVs  NewVisits\n",
       "0                    Data Share Promo        desktop       6   17          4\n",
       "1  AW - Dynamic Search Ads Whole Site        desktop      22  110         17\n",
       "2  AW - Dynamic Search Ads Whole Site         tablet       8   52          6\n",
       "3                    Data Share Promo         tablet       1    4          1\n",
       "4  AW - Dynamic Search Ads Whole Site         mobile      17  105         13\n",
       "5                    Data Share Promo         mobile       5   42          3"
      ]
     },
     "execution_count": 45,
     "metadata": {},
     "output_type": "execute_result"
    }
   ],
   "source": [
    "df"
   ]
  },
  {
   "cell_type": "code",
   "execution_count": 18,
   "metadata": {
    "collapsed": true
   },
   "outputs": [],
   "source": [
    "# Testing partitioned tables and table suffix\n",
    "query_mult_days = (\n",
    "\"\"\"\n",
    "SELECT\n",
    "    date,\n",
    "    device.deviceCategory,\n",
    "    SUM(totals.visits) AS Visits,\n",
    "    SUM(totals.pageviews) AS PVs,\n",
    "    SUM(totals.newVisits) AS NewVisits\n",
    "FROM `bigquery-public-data.google_analytics_sample.ga_sessions_*`\n",
    "WHERE\n",
    "    _TABLE_SUFFIX BETWEEN '20170101'\n",
    "    AND\n",
    "    '20170105'\n",
    "GROUP BY\n",
    "    date,\n",
    "    device.deviceCategory\n",
    "ORDER BY\n",
    "    date ASC,\n",
    "    Visits DESC\n",
    "\"\"\")"
   ]
  },
  {
   "cell_type": "code",
   "execution_count": 19,
   "metadata": {
    "collapsed": true
   },
   "outputs": [],
   "source": [
    "mult_day_df = pgbq.read_gbq(query_mult_days, dialect='standard')"
   ]
  },
  {
   "cell_type": "code",
   "execution_count": 22,
   "metadata": {},
   "outputs": [
    {
     "data": {
      "text/html": [
       "<div>\n",
       "<style>\n",
       "    .dataframe thead tr:only-child th {\n",
       "        text-align: right;\n",
       "    }\n",
       "\n",
       "    .dataframe thead th {\n",
       "        text-align: left;\n",
       "    }\n",
       "\n",
       "    .dataframe tbody tr th {\n",
       "        vertical-align: top;\n",
       "    }\n",
       "</style>\n",
       "<table border=\"1\" class=\"dataframe\">\n",
       "  <thead>\n",
       "    <tr style=\"text-align: right;\">\n",
       "      <th></th>\n",
       "      <th>date</th>\n",
       "      <th>deviceCategory</th>\n",
       "      <th>Visits</th>\n",
       "      <th>PVs</th>\n",
       "      <th>NewVisits</th>\n",
       "    </tr>\n",
       "  </thead>\n",
       "  <tbody>\n",
       "    <tr>\n",
       "      <th>0</th>\n",
       "      <td>20170101</td>\n",
       "      <td>desktop</td>\n",
       "      <td>759</td>\n",
       "      <td>3246</td>\n",
       "      <td>576</td>\n",
       "    </tr>\n",
       "    <tr>\n",
       "      <th>1</th>\n",
       "      <td>20170101</td>\n",
       "      <td>mobile</td>\n",
       "      <td>503</td>\n",
       "      <td>1678</td>\n",
       "      <td>390</td>\n",
       "    </tr>\n",
       "    <tr>\n",
       "      <th>2</th>\n",
       "      <td>20170101</td>\n",
       "      <td>tablet</td>\n",
       "      <td>102</td>\n",
       "      <td>438</td>\n",
       "      <td>76</td>\n",
       "    </tr>\n",
       "  </tbody>\n",
       "</table>\n",
       "</div>"
      ],
      "text/plain": [
       "       date deviceCategory  Visits   PVs  NewVisits\n",
       "0  20170101        desktop     759  3246        576\n",
       "1  20170101         mobile     503  1678        390\n",
       "2  20170101         tablet     102   438         76"
      ]
     },
     "execution_count": 22,
     "metadata": {},
     "output_type": "execute_result"
    }
   ],
   "source": [
    "mult_day_df.head(3)"
   ]
  },
  {
   "cell_type": "code",
   "execution_count": 12,
   "metadata": {
    "collapsed": true
   },
   "outputs": [],
   "source": [
    "# Vs same thing using UNION ALL\n",
    "query_mult_days_union = (\n",
    "\"\"\"\n",
    "WITH mult_ga_table AS (\n",
    "    SELECT\n",
    "        date,\n",
    "        device.deviceCategory,\n",
    "        SUM(totals.visits) AS Visits,\n",
    "        SUM(totals.pageviews) AS PVs,\n",
    "        SUM(totals.newVisits) AS NewVisits\n",
    "    FROM `bigquery-public-data.google_analytics_sample.ga_sessions_20170101`\n",
    "    GROUP BY\n",
    "        date,\n",
    "        device.deviceCategory\n",
    "    \n",
    "    UNION ALL\n",
    "    \n",
    "    SELECT\n",
    "        date,\n",
    "        device.deviceCategory,\n",
    "        SUM(totals.visits) AS Visits,\n",
    "        SUM(totals.pageviews) AS PVs,\n",
    "        SUM(totals.newVisits) AS NewVisits\n",
    "    FROM `bigquery-public-data.google_analytics_sample.ga_sessions_20170102`\n",
    "    GROUP BY\n",
    "        date,\n",
    "        device.deviceCategory\n",
    "    )\n",
    "\n",
    "SELECT *\n",
    "FROM mult_ga_table\n",
    "ORDER BY\n",
    "    date ASC,\n",
    "    Visits DESC\n",
    "\"\"\")\n",
    "# Way less efficient from a writing perspective (maybe more performant?)"
   ]
  },
  {
   "cell_type": "code",
   "execution_count": 13,
   "metadata": {},
   "outputs": [],
   "source": [
    "ga_mult_day_df = pgbq.read_gbq(query_mult_days_union, dialect='standard')"
   ]
  },
  {
   "cell_type": "code",
   "execution_count": 21,
   "metadata": {},
   "outputs": [
    {
     "data": {
      "text/html": [
       "<div>\n",
       "<style>\n",
       "    .dataframe thead tr:only-child th {\n",
       "        text-align: right;\n",
       "    }\n",
       "\n",
       "    .dataframe thead th {\n",
       "        text-align: left;\n",
       "    }\n",
       "\n",
       "    .dataframe tbody tr th {\n",
       "        vertical-align: top;\n",
       "    }\n",
       "</style>\n",
       "<table border=\"1\" class=\"dataframe\">\n",
       "  <thead>\n",
       "    <tr style=\"text-align: right;\">\n",
       "      <th></th>\n",
       "      <th>date</th>\n",
       "      <th>deviceCategory</th>\n",
       "      <th>Visits</th>\n",
       "      <th>PVs</th>\n",
       "      <th>NewVisits</th>\n",
       "    </tr>\n",
       "  </thead>\n",
       "  <tbody>\n",
       "    <tr>\n",
       "      <th>0</th>\n",
       "      <td>20170101</td>\n",
       "      <td>desktop</td>\n",
       "      <td>759</td>\n",
       "      <td>3246</td>\n",
       "      <td>576</td>\n",
       "    </tr>\n",
       "    <tr>\n",
       "      <th>1</th>\n",
       "      <td>20170101</td>\n",
       "      <td>mobile</td>\n",
       "      <td>503</td>\n",
       "      <td>1678</td>\n",
       "      <td>390</td>\n",
       "    </tr>\n",
       "    <tr>\n",
       "      <th>2</th>\n",
       "      <td>20170101</td>\n",
       "      <td>tablet</td>\n",
       "      <td>102</td>\n",
       "      <td>438</td>\n",
       "      <td>76</td>\n",
       "    </tr>\n",
       "  </tbody>\n",
       "</table>\n",
       "</div>"
      ],
      "text/plain": [
       "       date deviceCategory  Visits   PVs  NewVisits\n",
       "0  20170101        desktop     759  3246        576\n",
       "1  20170101         mobile     503  1678        390\n",
       "2  20170101         tablet     102   438         76"
      ]
     },
     "execution_count": 21,
     "metadata": {},
     "output_type": "execute_result"
    }
   ],
   "source": [
    "ga_mult_day_df.head(3)"
   ]
  },
  {
   "cell_type": "code",
   "execution_count": 37,
   "metadata": {},
   "outputs": [
    {
     "data": {
      "text/plain": [
       "True"
      ]
     },
     "execution_count": 37,
     "metadata": {},
     "output_type": "execute_result"
    }
   ],
   "source": [
    "# Quick check that it returns similar data\n",
    "table_suffix_sum = ga_mult_day_df[ga_mult_day_df['date'] == '20170101'].loc[:,\"Visits\"].sum()\n",
    "union_table_sum = mult_day_df[mult_day_df['date'] == '20170101'].loc[:,\"Visits\"].sum()\n",
    "\n",
    "table_suffix_sum == union_table_sum"
   ]
  },
  {
   "cell_type": "code",
   "execution_count": 53,
   "metadata": {
    "collapsed": true
   },
   "outputs": [],
   "source": [
    "# Working on getting event data to define conversion as a metric (sessions where hit of xyz event >= 1)\n",
    "event_query = (\n",
    "\"\"\"\n",
    "SELECT\n",
    "    #visitId,\n",
    "    trafficSource.campaign,\n",
    "    device.deviceCategory,\n",
    "    hits.eventInfo.eventCategory,\n",
    "    SUM(totals.hits) AS Hits,\n",
    "    SUM(totals.visits) AS Visits,\n",
    "    SUM(totals.pageviews) AS PVs,\n",
    "    SUM(totals.newVisits) AS NewVisits\n",
    "FROM `bigquery-public-data.google_analytics_sample.ga_sessions_20170101`\n",
    "WHERE\n",
    "    trafficSource.campaign != \"(not set)\"\n",
    "GROUP BY\n",
    "    #visitId,\n",
    "    trafficSource.campaign,\n",
    "    device.deviceCategory,\n",
    "    hits.eventInfo.eventCategory\n",
    "\"\"\")"
   ]
  },
  {
   "cell_type": "code",
   "execution_count": 55,
   "metadata": {},
   "outputs": [],
   "source": [
    "event_hit_df = pgbq.read_gbq(event_query, dialect='standard')\n",
    "# Need to utilize unnest to access the array data type"
   ]
  },
  {
   "cell_type": "code",
   "execution_count": null,
   "metadata": {
    "collapsed": true
   },
   "outputs": [],
   "source": [
    "event_hit_df"
   ]
  }
 ],
 "metadata": {
  "kernelspec": {
   "display_name": "Python 3",
   "language": "python",
   "name": "python3"
  },
  "language_info": {
   "codemirror_mode": {
    "name": "ipython",
    "version": 3
   },
   "file_extension": ".py",
   "mimetype": "text/x-python",
   "name": "python",
   "nbconvert_exporter": "python",
   "pygments_lexer": "ipython3",
   "version": "3.6.6"
  }
 },
 "nbformat": 4,
 "nbformat_minor": 2
}
