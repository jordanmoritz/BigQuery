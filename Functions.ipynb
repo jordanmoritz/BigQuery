{
 "cells": [
  {
   "cell_type": "code",
   "execution_count": 1,
   "metadata": {
    "collapsed": true
   },
   "outputs": [],
   "source": [
    "from google.cloud import bigquery as bq\n",
    "import os\n",
    "\n",
    "service_credentials = 'Service_Credentials/big-query-horse-play-f37757d450b8.json'\n",
    "os.environ['GOOGLE_APPLICATION_CREDENTIALS'] = service_credentials"
   ]
  },
  {
   "cell_type": "code",
   "execution_count": 2,
   "metadata": {
    "collapsed": true
   },
   "outputs": [],
   "source": [
    "# Instantiates bq client, optionally requires project\n",
    "bq_client = bq.Client()"
   ]
  },
  {
   "cell_type": "code",
   "execution_count": 57,
   "metadata": {},
   "outputs": [
    {
     "name": "stdout",
     "output_type": "stream",
     "text": [
      "DatasetReference('big-query-horse-play', 'second_test')\n",
      "Dataset(DatasetReference('big-query-horse-play', 'second_test'))\n"
     ]
    },
    {
     "data": {
      "text/plain": [
       "'second_test'"
      ]
     },
     "execution_count": 57,
     "metadata": {},
     "output_type": "execute_result"
    }
   ],
   "source": [
    "print(bq_client.dataset(dataset_ids[1]))\n",
    "\n",
    "Datasetz = bq_client.get_dataset(bq_client.dataset(dataset_ids[1]))\n",
    "\n",
    "print(Datasetz)\n",
    "\n",
    "Datasetz.dataset_id"
   ]
  },
  {
   "cell_type": "code",
   "execution_count": 61,
   "metadata": {},
   "outputs": [
    {
     "name": "stdout",
     "output_type": "stream",
     "text": [
      "Datasets in project - big-query-horse-play:\n",
      "names_dataset\n",
      "second_test\n"
     ]
    }
   ],
   "source": [
    "dataset_ids = get_dataset_ids(bq_client)"
   ]
  },
  {
   "cell_type": "code",
   "execution_count": 66,
   "metadata": {
    "collapsed": true
   },
   "outputs": [],
   "source": [
    "def get_dataset_details(client_name, dataset_id):\n",
    "    dataset_ref = client_name.dataset(dataset_id)\n",
    "    \n",
    "    dataset_details = client_name.get_dataset(dataset_ref)\n",
    "    \n",
    "    if dataset_details:\n",
    "        # Dataset properties\n",
    "        print('---------------------------------------')\n",
    "        print(f'Dataset ID: {dataset_details.dataset_id}')\n",
    "        print(f'Friendly Name: {dataset_details.friendly_name}')\n",
    "        print(f'Full ID: {dataset_details.full_dataset_id}')\n",
    "        print(f'Labels: {dataset_details.labels}')\n",
    "        print(f'Project: {dataset_details.project}')\n",
    "        print(f'Ref: {dataset_details.reference}')\n",
    "\n",
    "        # Table properties\n",
    "#         dataset_tables = list(client_name.list_tables(dataset_id))\n",
    "#         if dataset_tables:\n",
    "#             for table in dataset_tables:\n",
    "\n",
    "        print(f'')\n",
    "        print('---------------------------------------')\n",
    "    \n",
    "    else:\n",
    "        print(f'No dataset matching dataset_id {dataset_id} in project {client_name.project}')\n",
    "\n",
    "    return dataset_details"
   ]
  },
  {
   "cell_type": "code",
   "execution_count": 71,
   "metadata": {},
   "outputs": [
    {
     "name": "stdout",
     "output_type": "stream",
     "text": [
      "---------------------------------------\n",
      "Dataset ID: names_dataset\n",
      "Friendly Name: None\n",
      "Full ID: big-query-horse-play:names_dataset\n",
      "Labels: {}\n",
      "Project: big-query-horse-play\n",
      "Ref: DatasetReference('big-query-horse-play', 'names_dataset')\n",
      "\n",
      "---------------------------------------\n"
     ]
    }
   ],
   "source": [
    "dataset_details = get_dataset_details(bq_client, dataset_ids[0])"
   ]
  },
  {
   "cell_type": "code",
   "execution_count": 75,
   "metadata": {},
   "outputs": [
    {
     "name": "stdout",
     "output_type": "stream",
     "text": [
      "names2017\n"
     ]
    }
   ],
   "source": [
    "list(bq_client.list_tables(dataset_details))\n",
    "\n",
    "for table in list(bq_client.list_tables(dataset_details)):\n",
    "    print(f'{table.table_id}')"
   ]
  },
  {
   "cell_type": "code",
   "execution_count": 68,
   "metadata": {
    "collapsed": true
   },
   "outputs": [],
   "source": [
    "# Various utility functions\n",
    "\n",
    "def get_dataset_ids(client_name):\n",
    "    datasets = list(client_name.list_datasets())\n",
    "    \n",
    "    dataset_ids = list()\n",
    "    if datasets:\n",
    "        print(f'Datasets in project - {client_name.project}:')\n",
    "        for dataset in datasets:\n",
    "            print(dataset.dataset_id)\n",
    "            dataset_ids.append(dataset.dataset_id)\n",
    "\n",
    "    else:\n",
    "        print(f'No datasets in {client_name.project}')        \n",
    "    \n",
    "    # Returns both the list object and id names\n",
    "    return dataset_ids\n",
    "\n",
    "def create_dataset(client_name, dataset_id, dataset_location=None, project=None):\n",
    "    \n",
    "    # Creates dataset reference for bq\n",
    "    dataset_reference = client_name.dataset(dataset_id, project)\n",
    "    \n",
    "    # Creates actual data set object\n",
    "    dataset = bq.Dataset(dataset_reference)\n",
    "    \n",
    "    # Optionally sets dataset location value\n",
    "    if dataset_location:\n",
    "        dataset.location = dataset_location\n",
    "    \n",
    "    # Makes the call home\n",
    "    dataset = client_name.create_dataset(dataset)\n",
    "    \n",
    "    return f'{dataset_id} created in project - {client_name.project}'"
   ]
  },
  {
   "cell_type": "code",
   "execution_count": 31,
   "metadata": {
    "collapsed": true
   },
   "outputs": [],
   "source": [
    "# I need a function to get table meta data using the __tables__\n",
    "# summary meta-data table"
   ]
  }
 ],
 "metadata": {
  "kernelspec": {
   "display_name": "Python 3",
   "language": "python",
   "name": "python3"
  },
  "language_info": {
   "codemirror_mode": {
    "name": "ipython",
    "version": 3
   },
   "file_extension": ".py",
   "mimetype": "text/x-python",
   "name": "python",
   "nbconvert_exporter": "python",
   "pygments_lexer": "ipython3",
   "version": "3.6.3"
  }
 },
 "nbformat": 4,
 "nbformat_minor": 2
}
