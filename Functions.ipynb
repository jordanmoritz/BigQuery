{
 "cells": [
  {
   "cell_type": "code",
   "execution_count": 2,
   "metadata": {
    "collapsed": true
   },
   "outputs": [],
   "source": [
    "from google.cloud import bigquery as bq\n",
    "import os\n",
    "\n",
    "service_credentials = 'Service_Credentials/big-query-horse-play-f37757d450b8.json'\n",
    "os.environ['GOOGLE_APPLICATION_CREDENTIALS'] = service_credentials"
   ]
  },
  {
   "cell_type": "code",
   "execution_count": 4,
   "metadata": {
    "collapsed": true
   },
   "outputs": [],
   "source": [
    "# Instantiates bq client, optionally requires project\n",
    "bq_client = bq.Client()"
   ]
  },
  {
   "cell_type": "code",
   "execution_count": 35,
   "metadata": {},
   "outputs": [],
   "source": [
    "# Utility function for returning available datasets in project\n",
    "def get_datasets(client_name):\n",
    "    datasets = list(client_name.list_datasets())\n",
    "    \n",
    "    if datasets:\n",
    "        print(f'Datasets in project - {client_name.project}:')\n",
    "        for dataset in datasets:\n",
    "            print(dataset.dataset_id)\n",
    "    else:\n",
    "        print(f'No datasets in {client_name.project}')\n",
    "        \n",
    "    return datasets\n",
    "\n",
    "# Utility function for creating dataset\n",
    "def create_dataset(client_name, dataset_id, dataset_location=None, project=None):\n",
    "    \n",
    "    # Creates dataset reference for bq\n",
    "    dataset_reference = client_name.dataset(dataset_id, project)\n",
    "    \n",
    "    # Creates actual data set object\n",
    "    dataset = bq.Dataset(dataset_reference)\n",
    "    \n",
    "    # Optionally sets dataset location value\n",
    "    if dataset_location:\n",
    "        dataset.location = dataset_location\n",
    "    \n",
    "    # Makes the call home\n",
    "    dataset = client_name.create_dataset(dataset)\n",
    "    \n",
    "    return f'{dataset_id} created in project - {client_name.project}'"
   ]
  }
 ],
 "metadata": {
  "kernelspec": {
   "display_name": "Python 3",
   "language": "python",
   "name": "python3"
  },
  "language_info": {
   "codemirror_mode": {
    "name": "ipython",
    "version": 3
   },
   "file_extension": ".py",
   "mimetype": "text/x-python",
   "name": "python",
   "nbconvert_exporter": "python",
   "pygments_lexer": "ipython3",
   "version": "3.6.3"
  }
 },
 "nbformat": 4,
 "nbformat_minor": 2
}
