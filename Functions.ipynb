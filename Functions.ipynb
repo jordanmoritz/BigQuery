{
 "cells": [
  {
   "cell_type": "code",
   "execution_count": 1,
   "metadata": {
    "collapsed": true
   },
   "outputs": [],
   "source": [
    "from google.cloud import bigquery as bq\n",
    "import os\n",
    "\n",
    "service_credentials = 'Service_Credentials/big-query-horse-play-f37757d450b8.json'\n",
    "os.environ['GOOGLE_APPLICATION_CREDENTIALS'] = service_credentials"
   ]
  },
  {
   "cell_type": "code",
   "execution_count": 2,
   "metadata": {
    "collapsed": true
   },
   "outputs": [],
   "source": [
    "# Instantiates bq client, optionally requires project\n",
    "bq_client = bq.Client()"
   ]
  },
  {
   "cell_type": "code",
   "execution_count": 108,
   "metadata": {
    "collapsed": true
   },
   "outputs": [],
   "source": [
    "# Various utility functions\n",
    "\n",
    "def get_datasets(client_name):\n",
    "    datasets = list(client_name.list_datasets())\n",
    "    \n",
    "    dataset_ids = list()\n",
    "    if datasets:\n",
    "        print(f'Datasets in project - {client_name.project}:')\n",
    "        for dataset in datasets:\n",
    "            print(dataset.dataset_id)\n",
    "            dataset_ids.append(dataset.dataset_id)\n",
    "            \n",
    "    else:\n",
    "        print(f'No datasets in {client_name.project}')        \n",
    "    \n",
    "    # Returns both the list object and id names\n",
    "    return datasets, dataset_ids\n",
    "\n",
    "def create_dataset(client_name, dataset_id, dataset_location=None, project=None):\n",
    "    \n",
    "    # Creates dataset reference for bq\n",
    "    dataset_reference = client_name.dataset(dataset_id, project)\n",
    "    \n",
    "    # Creates actual data set object\n",
    "    dataset = bq.Dataset(dataset_reference)\n",
    "    \n",
    "    # Optionally sets dataset location value\n",
    "    if dataset_location:\n",
    "        dataset.location = dataset_location\n",
    "    \n",
    "    # Makes the call home\n",
    "    dataset = client_name.create_dataset(dataset)\n",
    "    \n",
    "    return f'{dataset_id} created in project - {client_name.project}'"
   ]
  },
  {
   "cell_type": "code",
   "execution_count": 109,
   "metadata": {},
   "outputs": [
    {
     "name": "stdout",
     "output_type": "stream",
     "text": [
      "Datasets in project - big-query-horse-play:\n",
      "names_dataset\n",
      "second_test\n"
     ]
    }
   ],
   "source": [
    "datasets, dataset_ids = get_datasets(bq_client)\n",
    "\n",
    "\n"
   ]
  },
  {
   "cell_type": "code",
   "execution_count": 110,
   "metadata": {},
   "outputs": [
    {
     "data": {
      "text/plain": [
       "['names_dataset', 'second_test']"
      ]
     },
     "execution_count": 110,
     "metadata": {},
     "output_type": "execute_result"
    }
   ],
   "source": [
    "dataset_ids"
   ]
  },
  {
   "cell_type": "code",
   "execution_count": 118,
   "metadata": {},
   "outputs": [],
   "source": [
    "# Check dataset details\n",
    "def get_dataset_details(datasets, dataset_id):\n",
    "    \n",
    "    dataset_details = dict()\n",
    "    for dataset in datasets:\n",
    "        if dataset_id == dataset.dataset_id:\n",
    "            print('---------------------------------------')\n",
    "            print(f'Dataset ID: {dataset.dataset_id}')\n",
    "            print(f'Friendly Name: {dataset.friendly_name}')\n",
    "            print(f'Full ID: {dataset.full_dataset_id}')\n",
    "            print(f'Labels: {dataset.labels}')\n",
    "            print(f'Project: {dataset.project}')\n",
    "            print(f'Ref: {dataset.reference}')\n",
    "            print('---------------------------------------')\n",
    "#             ADD TABLES HERE\n",
    "# Then can use that to make get tables query, but to limi API\n",
    "# Calls should do it in one swoop"
   ]
  },
  {
   "cell_type": "code",
   "execution_count": 119,
   "metadata": {},
   "outputs": [
    {
     "name": "stdout",
     "output_type": "stream",
     "text": [
      "---------------------------------------\n",
      "Dataset ID: second_test\n",
      "Friendly Name: None\n",
      "Full ID: big-query-horse-play:second_test\n",
      "Labels: {}\n",
      "Project: big-query-horse-play\n",
      "Ref: DatasetReference('big-query-horse-play', 'second_test')\n",
      "---------------------------------------\n"
     ]
    }
   ],
   "source": [
    "get_dataset_details(datasets, dataset_ids[1])\n",
    "\n",
    "# for i in datasets:\n",
    "#     print(i.dataset_id)"
   ]
  }
 ],
 "metadata": {
  "kernelspec": {
   "display_name": "Python 3",
   "language": "python",
   "name": "python3"
  },
  "language_info": {
   "codemirror_mode": {
    "name": "ipython",
    "version": 3
   },
   "file_extension": ".py",
   "mimetype": "text/x-python",
   "name": "python",
   "nbconvert_exporter": "python",
   "pygments_lexer": "ipython3",
   "version": "3.6.3"
  }
 },
 "nbformat": 4,
 "nbformat_minor": 2
}
