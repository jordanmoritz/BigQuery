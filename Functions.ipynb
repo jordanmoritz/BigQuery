{
 "cells": [
  {
   "cell_type": "code",
   "execution_count": 1,
   "metadata": {
    "collapsed": true
   },
   "outputs": [],
   "source": [
    "from google.cloud import bigquery as bq\n",
    "import os\n",
    "\n",
    "service_credentials = 'Service_Credentials/big-query-horse-play-f37757d450b8.json'\n",
    "os.environ['GOOGLE_APPLICATION_CREDENTIALS'] = service_credentials"
   ]
  },
  {
   "cell_type": "code",
   "execution_count": 16,
   "metadata": {
    "collapsed": true
   },
   "outputs": [],
   "source": [
    "# Various utility functions\n",
    "\n",
    "def get_dataset_ids(client_name):\n",
    "    dataset_list = list(client_name.list_datasets())\n",
    "    \n",
    "    if dataset_list:\n",
    "        dataset_ids = list()\n",
    "        print(f'Datasets in project - {client_name.project}:')\n",
    "        for dataset in dataset_list:\n",
    "            print(dataset.dataset_id)\n",
    "            dataset_ids.append(dataset.dataset_id)\n",
    "            \n",
    "        return dataset_ids\n",
    "\n",
    "    else:\n",
    "        print(f'No datasets in {client_name.project}')        \n",
    "\n",
    "def get_table_ids(client_name, dataset):\n",
    "\n",
    "    table_list = list(client_name.list_tables(dataset))\n",
    "\n",
    "    if table_list:\n",
    "        table_ids = list()\n",
    "        print(f'Tables in {dataset.dataset_id}:')\n",
    "        for table in table_list:\n",
    "            print(f'{table.table_id}')\n",
    "            table_ids.append(table.table_id)\n",
    "\n",
    "        return table_ids\n",
    "\n",
    "    else:\n",
    "        print(f'No tables in {dataset.dataset_id}')\n",
    "        \n",
    "def get_dataset(client_name, dataset_id, tables=False):\n",
    "    dataset_ref = client_name.dataset(dataset_id)\n",
    "    \n",
    "    dataset = client_name.get_dataset(dataset_ref)\n",
    "    \n",
    "    if dataset:\n",
    "        # Dataset properties\n",
    "        print('---------------------------------------')\n",
    "        print(f'Dataset ID: {dataset.dataset_id}')\n",
    "        print(f'Friendly Name: {dataset.friendly_name}')\n",
    "        print(f'Full ID: {dataset.full_dataset_id}')\n",
    "        print(f'Labels: {dataset.labels}')\n",
    "        print(f'Project: {dataset.project}')\n",
    "        print(f'Ref: {dataset.reference}')\n",
    "\n",
    "        if tables == True:\n",
    "            table_ids = get_table_ids(client_name, dataset)\n",
    "            \n",
    "            return dataset, table_ids\n",
    "\n",
    "        print('---------------------------------------')\n",
    "    \n",
    "    else:\n",
    "        print(f'No dataset matching dataset_id {dataset_id} in project {client_name.project}')\n",
    "\n",
    "    return dataset\n",
    "\n",
    "def create_dataset(client_name, dataset_id, dataset_location=None, project=None):\n",
    "    \n",
    "    # Creates dataset reference for bq\n",
    "    dataset_reference = client_name.dataset(dataset_id, project)\n",
    "    \n",
    "    # Creates actual data set object\n",
    "    dataset = bq.Dataset(dataset_reference)\n",
    "    \n",
    "    # Optionally sets dataset location value\n",
    "    if dataset_location:\n",
    "        dataset.location = dataset_location\n",
    "    \n",
    "    # Makes the call home\n",
    "    dataset = client_name.create_dataset(dataset)\n",
    "    \n",
    "    return f'{dataset_id} created in project - {client_name.project}'"
   ]
  },
  {
   "cell_type": "code",
   "execution_count": null,
   "metadata": {
    "collapsed": true
   },
   "outputs": [],
   "source": [
    "# I need a function to get table meta data using the __tables__\n",
    "# summary meta-data table"
   ]
  },
  {
   "cell_type": "code",
   "execution_count": 4,
   "metadata": {
    "collapsed": true
   },
   "outputs": [],
   "source": [
    "# Instantiates bq client, optionally requires project\n",
    "bq_client = bq.Client()"
   ]
  },
  {
   "cell_type": "code",
   "execution_count": 7,
   "metadata": {},
   "outputs": [
    {
     "name": "stdout",
     "output_type": "stream",
     "text": [
      "Datasets in project - big-query-horse-play:\n",
      "names_dataset\n",
      "second_test\n"
     ]
    },
    {
     "data": {
      "text/plain": [
       "['names_dataset', 'second_test']"
      ]
     },
     "execution_count": 7,
     "metadata": {},
     "output_type": "execute_result"
    }
   ],
   "source": [
    "dataset_ids = get_dataset_ids(bq_client)\n",
    "dataset_ids"
   ]
  },
  {
   "cell_type": "code",
   "execution_count": 23,
   "metadata": {},
   "outputs": [
    {
     "name": "stdout",
     "output_type": "stream",
     "text": [
      "---------------------------------------\n",
      "Dataset ID: names_dataset\n",
      "Friendly Name: None\n",
      "Full ID: big-query-horse-play:names_dataset\n",
      "Labels: {}\n",
      "Project: big-query-horse-play\n",
      "Ref: DatasetReference('big-query-horse-play', 'names_dataset')\n",
      "---------------------------------------\n"
     ]
    }
   ],
   "source": [
    "names_dataset, names_table_ids = get_dataset(bq_client, dataset_ids[0], tables=True)"
   ]
  },
  {
   "cell_type": "code",
   "execution_count": 10,
   "metadata": {},
   "outputs": [
    {
     "name": "stdout",
     "output_type": "stream",
     "text": [
      "Tables in names_dataset:\n",
      "\tID: names2017\n"
     ]
    }
   ],
   "source": [
    "names_table_ids = get_table_ids(bq_client, names_dataset)"
   ]
  },
  {
   "cell_type": "code",
   "execution_count": null,
   "metadata": {},
   "outputs": [],
   "source": [
    "# bq_client.get_table()\n",
    "\n",
    "table_ref = names_dataset.table(names_tables[0])\n",
    "\n",
    "# names_tables"
   ]
  },
  {
   "cell_type": "code",
   "execution_count": null,
   "metadata": {},
   "outputs": [],
   "source": [
    "actual_table = bq_client.get_table(table_ref)\n",
    "actual_table"
   ]
  },
  {
   "cell_type": "code",
   "execution_count": null,
   "metadata": {},
   "outputs": [],
   "source": [
    "actual_table.schema"
   ]
  }
 ],
 "metadata": {
  "kernelspec": {
   "display_name": "Python 3",
   "language": "python",
   "name": "python3"
  },
  "language_info": {
   "codemirror_mode": {
    "name": "ipython",
    "version": 3
   },
   "file_extension": ".py",
   "mimetype": "text/x-python",
   "name": "python",
   "nbconvert_exporter": "python",
   "pygments_lexer": "ipython3",
   "version": "3.6.3"
  }
 },
 "nbformat": 4,
 "nbformat_minor": 2
}
