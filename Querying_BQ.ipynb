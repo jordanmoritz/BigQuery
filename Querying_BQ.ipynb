{
 "cells": [
  {
   "cell_type": "code",
   "execution_count": 2,
   "metadata": {},
   "outputs": [
    {
     "name": "stdout",
     "output_type": "stream",
     "text": [
      "The google.cloud.bigquery extension is already loaded. To reload it, use:\n",
      "  %reload_ext google.cloud.bigquery\n"
     ]
    }
   ],
   "source": [
    "from google.cloud import bigquery as bq\n",
    "import os\n",
    "import pandas as pd\n",
    "import pandas_gbq as pgbq\n",
    "import util_functions as util\n",
    "import matplotlib.pyplot as plt\n",
    "import pprint\n",
    "\n",
    "pp = pprint.PrettyPrinter()\n",
    "\n",
    "%matplotlib inline\n",
    "%load_ext google.cloud.bigquery\n",
    "\n",
    "service_credentials = 'Service_Credentials/big-query-horse-play-f37757d450b8.json'\n",
    "os.environ['GOOGLE_APPLICATION_CREDENTIALS'] = service_credentials\n",
    "\n",
    "# For your mess around dataset\n",
    "horseplay_client = bq.Client()\n",
    "\n",
    "# For BQ public datasets\n",
    "bq_pub_client = bq.Client(project='bigquery-public-data')"
   ]
  },
  {
   "cell_type": "code",
   "execution_count": null,
   "metadata": {
    "collapsed": true
   },
   "outputs": [],
   "source": [
    "%%bigquery birth_df\n",
    "\n",
    "SELECT\n",
    "    source_year AS year,\n",
    "    mother_age AS mom_age,\n",
    "    COUNT(cigarettes_per_day) AS cigs_per_day\n",
    "FROM `bigquery-public-data.samples.natality`\n",
    "GROUP BY year, mom_age\n",
    "ORDER BY year DESC\n",
    "LIMIT 5"
   ]
  },
  {
   "cell_type": "code",
   "execution_count": null,
   "metadata": {
    "collapsed": true
   },
   "outputs": [],
   "source": [
    "birth_df[['mom_age', 'cigs_per_day']].groupby(by='mom_age').mean().plot(kind='bar')"
   ]
  },
  {
   "cell_type": "code",
   "execution_count": null,
   "metadata": {
    "collapsed": true
   },
   "outputs": [],
   "source": [
    "# But the above is the same as this\n",
    "sql_query = (\n",
    "\"\"\"\n",
    "SELECT\n",
    "    source_year AS year,\n",
    "    mother_age AS mom_age,\n",
    "    COUNT(cigarettes_per_day) AS cigs_per_day\n",
    "FROM `bigquery-public-data.samples.natality`\n",
    "GROUP BY year, mom_age\n",
    "ORDER BY year DESC\n",
    "LIMIT 5\n",
    "\"\"\")\n",
    "\n",
    "query_job = horseplay_client.query(sql_query)\n",
    "\n",
    "query_results = query_job.result()\n",
    "\n",
    "# But then you need to process it extensively to get it into a pandas df"
   ]
  },
  {
   "cell_type": "code",
   "execution_count": null,
   "metadata": {
    "collapsed": true
   },
   "outputs": [],
   "source": [
    "# So if you want the best of both worlds, you can just use the pgbq functions rather than line magic\n",
    "pgbq.read_gbq(sql_query, dialect=\"standard\")"
   ]
  },
  {
   "cell_type": "code",
   "execution_count": 8,
   "metadata": {},
   "outputs": [
    {
     "data": {
      "text/html": [
       "<div>\n",
       "<style>\n",
       "    .dataframe thead tr:only-child th {\n",
       "        text-align: right;\n",
       "    }\n",
       "\n",
       "    .dataframe thead th {\n",
       "        text-align: left;\n",
       "    }\n",
       "\n",
       "    .dataframe tbody tr th {\n",
       "        vertical-align: top;\n",
       "    }\n",
       "</style>\n",
       "<table border=\"1\" class=\"dataframe\">\n",
       "  <thead>\n",
       "    <tr style=\"text-align: right;\">\n",
       "      <th></th>\n",
       "      <th>TotalPageviews</th>\n",
       "    </tr>\n",
       "  </thead>\n",
       "  <tbody>\n",
       "    <tr>\n",
       "      <th>0</th>\n",
       "      <td>5362</td>\n",
       "    </tr>\n",
       "  </tbody>\n",
       "</table>\n",
       "</div>"
      ],
      "text/plain": [
       "   TotalPageviews\n",
       "0            5362"
      ]
     },
     "execution_count": 8,
     "metadata": {},
     "output_type": "execute_result"
    }
   ],
   "source": [
    "# Okay, let's hit the GA bigquery sample\n",
    "ga_query = (\n",
    "\"\"\"\n",
    "SELECT SUM(totals.pageviews) as TotalPageviews\n",
    "FROM `bigquery-public-data.google_analytics_sample.ga_sessions_20170101`\n",
    "\"\"\")\n",
    "\n",
    "pgbq.read_gbq(ga_query, dialect=\"standard\")"
   ]
  },
  {
   "cell_type": "code",
   "execution_count": null,
   "metadata": {
    "collapsed": true
   },
   "outputs": [],
   "source": [
    "util.get_table_ids(bq_pub_client, ga_sample_db_ref)"
   ]
  },
  {
   "cell_type": "code",
   "execution_count": 3,
   "metadata": {},
   "outputs": [
    {
     "name": "stdout",
     "output_type": "stream",
     "text": [
      "---------------------------------------\n",
      "Dataset ID: google_analytics_sample\n",
      "Friendly Name: None\n",
      "Full ID: bigquery-public-data:google_analytics_sample\n",
      "Labels: {}\n",
      "Project: bigquery-public-data\n",
      "Ref: DatasetReference('bigquery-public-data', 'google_analytics_sample')\n",
      "---------------------------------------\n",
      "---------------------------------------\n",
      "Table ID: ga_sessions_20170801\n",
      "Friendly Name: None\n",
      "Full ID: bigquery-public-data:google_analytics_sample.ga_sessions_20170801\n",
      "Type: TABLE\n",
      "Rows: 2556\n"
     ]
    }
   ],
   "source": [
    "ga_sample_db_ref = util.get_dataset(bq_pub_client, 'google_analytics_sample')\n",
    "ga_sample_table_ids = util.get_table_ids(bq_pub_client, ga_sample_db_ref)\n",
    "ga_sample_table = util.get_table(bq_pub_client, ga_sample_db_ref, ga_sample_table_ids[365])"
   ]
  },
  {
   "cell_type": "code",
   "execution_count": 13,
   "metadata": {},
   "outputs": [
    {
     "data": {
      "text/plain": [
       "[SchemaField('visitorId', 'INTEGER', 'NULLABLE', None, ()),\n",
       " SchemaField('visitNumber', 'INTEGER', 'NULLABLE', None, ()),\n",
       " SchemaField('visitId', 'INTEGER', 'NULLABLE', None, ()),\n",
       " SchemaField('visitStartTime', 'INTEGER', 'NULLABLE', None, ()),\n",
       " SchemaField('date', 'STRING', 'NULLABLE', None, ()),\n",
       " SchemaField('totals', 'RECORD', 'NULLABLE', None, (SchemaField('visits', 'INTEGER', 'NULLABLE', None, ()), SchemaField('hits', 'INTEGER', 'NULLABLE', None, ()), SchemaField('pageviews', 'INTEGER', 'NULLABLE', None, ()), SchemaField('timeOnSite', 'INTEGER', 'NULLABLE', None, ()), SchemaField('bounces', 'INTEGER', 'NULLABLE', None, ()), SchemaField('transactions', 'INTEGER', 'NULLABLE', None, ()), SchemaField('transactionRevenue', 'INTEGER', 'NULLABLE', None, ()), SchemaField('newVisits', 'INTEGER', 'NULLABLE', None, ()), SchemaField('screenviews', 'INTEGER', 'NULLABLE', None, ()), SchemaField('uniqueScreenviews', 'INTEGER', 'NULLABLE', None, ()), SchemaField('timeOnScreen', 'INTEGER', 'NULLABLE', None, ()), SchemaField('totalTransactionRevenue', 'INTEGER', 'NULLABLE', None, ()), SchemaField('sessionQualityDim', 'INTEGER', 'NULLABLE', None, ()))),\n",
       " SchemaField('trafficSource', 'RECORD', 'NULLABLE', None, (SchemaField('referralPath', 'STRING', 'NULLABLE', None, ()), SchemaField('campaign', 'STRING', 'NULLABLE', None, ()), SchemaField('source', 'STRING', 'NULLABLE', None, ()), SchemaField('medium', 'STRING', 'NULLABLE', None, ()), SchemaField('keyword', 'STRING', 'NULLABLE', None, ()), SchemaField('adContent', 'STRING', 'NULLABLE', None, ()), SchemaField('adwordsClickInfo', 'RECORD', 'NULLABLE', None, (SchemaField('campaignId', 'INTEGER', 'NULLABLE', None, ()), SchemaField('adGroupId', 'INTEGER', 'NULLABLE', None, ()), SchemaField('creativeId', 'INTEGER', 'NULLABLE', None, ()), SchemaField('criteriaId', 'INTEGER', 'NULLABLE', None, ()), SchemaField('page', 'INTEGER', 'NULLABLE', None, ()), SchemaField('slot', 'STRING', 'NULLABLE', None, ()), SchemaField('criteriaParameters', 'STRING', 'NULLABLE', None, ()), SchemaField('gclId', 'STRING', 'NULLABLE', None, ()), SchemaField('customerId', 'INTEGER', 'NULLABLE', None, ()), SchemaField('adNetworkType', 'STRING', 'NULLABLE', None, ()), SchemaField('targetingCriteria', 'RECORD', 'NULLABLE', None, (SchemaField('boomUserlistId', 'INTEGER', 'NULLABLE', None, ()),)), SchemaField('isVideoAd', 'BOOLEAN', 'NULLABLE', None, ()))), SchemaField('isTrueDirect', 'BOOLEAN', 'NULLABLE', None, ()), SchemaField('campaignCode', 'STRING', 'NULLABLE', None, ()))),\n",
       " SchemaField('device', 'RECORD', 'NULLABLE', None, (SchemaField('browser', 'STRING', 'NULLABLE', None, ()), SchemaField('browserVersion', 'STRING', 'NULLABLE', None, ()), SchemaField('browserSize', 'STRING', 'NULLABLE', None, ()), SchemaField('operatingSystem', 'STRING', 'NULLABLE', None, ()), SchemaField('operatingSystemVersion', 'STRING', 'NULLABLE', None, ()), SchemaField('isMobile', 'BOOLEAN', 'NULLABLE', None, ()), SchemaField('mobileDeviceBranding', 'STRING', 'NULLABLE', None, ()), SchemaField('mobileDeviceModel', 'STRING', 'NULLABLE', None, ()), SchemaField('mobileInputSelector', 'STRING', 'NULLABLE', None, ()), SchemaField('mobileDeviceInfo', 'STRING', 'NULLABLE', None, ()), SchemaField('mobileDeviceMarketingName', 'STRING', 'NULLABLE', None, ()), SchemaField('flashVersion', 'STRING', 'NULLABLE', None, ()), SchemaField('javaEnabled', 'BOOLEAN', 'NULLABLE', None, ()), SchemaField('language', 'STRING', 'NULLABLE', None, ()), SchemaField('screenColors', 'STRING', 'NULLABLE', None, ()), SchemaField('screenResolution', 'STRING', 'NULLABLE', None, ()), SchemaField('deviceCategory', 'STRING', 'NULLABLE', None, ()))),\n",
       " SchemaField('geoNetwork', 'RECORD', 'NULLABLE', None, (SchemaField('continent', 'STRING', 'NULLABLE', None, ()), SchemaField('subContinent', 'STRING', 'NULLABLE', None, ()), SchemaField('country', 'STRING', 'NULLABLE', None, ()), SchemaField('region', 'STRING', 'NULLABLE', None, ()), SchemaField('metro', 'STRING', 'NULLABLE', None, ()), SchemaField('city', 'STRING', 'NULLABLE', None, ()), SchemaField('cityId', 'STRING', 'NULLABLE', None, ()), SchemaField('networkDomain', 'STRING', 'NULLABLE', None, ()), SchemaField('latitude', 'STRING', 'NULLABLE', None, ()), SchemaField('longitude', 'STRING', 'NULLABLE', None, ()), SchemaField('networkLocation', 'STRING', 'NULLABLE', None, ()))),\n",
       " SchemaField('customDimensions', 'RECORD', 'REPEATED', None, (SchemaField('index', 'INTEGER', 'NULLABLE', None, ()), SchemaField('value', 'STRING', 'NULLABLE', None, ()))),\n",
       " SchemaField('hits', 'RECORD', 'REPEATED', None, (SchemaField('hitNumber', 'INTEGER', 'NULLABLE', None, ()), SchemaField('time', 'INTEGER', 'NULLABLE', None, ()), SchemaField('hour', 'INTEGER', 'NULLABLE', None, ()), SchemaField('minute', 'INTEGER', 'NULLABLE', None, ()), SchemaField('isSecure', 'BOOLEAN', 'NULLABLE', None, ()), SchemaField('isInteraction', 'BOOLEAN', 'NULLABLE', None, ()), SchemaField('isEntrance', 'BOOLEAN', 'NULLABLE', None, ()), SchemaField('isExit', 'BOOLEAN', 'NULLABLE', None, ()), SchemaField('referer', 'STRING', 'NULLABLE', None, ()), SchemaField('page', 'RECORD', 'NULLABLE', None, (SchemaField('pagePath', 'STRING', 'NULLABLE', None, ()), SchemaField('hostname', 'STRING', 'NULLABLE', None, ()), SchemaField('pageTitle', 'STRING', 'NULLABLE', None, ()), SchemaField('searchKeyword', 'STRING', 'NULLABLE', None, ()), SchemaField('searchCategory', 'STRING', 'NULLABLE', None, ()), SchemaField('pagePathLevel1', 'STRING', 'NULLABLE', None, ()), SchemaField('pagePathLevel2', 'STRING', 'NULLABLE', None, ()), SchemaField('pagePathLevel3', 'STRING', 'NULLABLE', None, ()), SchemaField('pagePathLevel4', 'STRING', 'NULLABLE', None, ()))), SchemaField('transaction', 'RECORD', 'NULLABLE', None, (SchemaField('transactionId', 'STRING', 'NULLABLE', None, ()), SchemaField('transactionRevenue', 'INTEGER', 'NULLABLE', None, ()), SchemaField('transactionTax', 'INTEGER', 'NULLABLE', None, ()), SchemaField('transactionShipping', 'INTEGER', 'NULLABLE', None, ()), SchemaField('affiliation', 'STRING', 'NULLABLE', None, ()), SchemaField('currencyCode', 'STRING', 'NULLABLE', None, ()), SchemaField('localTransactionRevenue', 'INTEGER', 'NULLABLE', None, ()), SchemaField('localTransactionTax', 'INTEGER', 'NULLABLE', None, ()), SchemaField('localTransactionShipping', 'INTEGER', 'NULLABLE', None, ()), SchemaField('transactionCoupon', 'STRING', 'NULLABLE', None, ()))), SchemaField('item', 'RECORD', 'NULLABLE', None, (SchemaField('transactionId', 'STRING', 'NULLABLE', None, ()), SchemaField('productName', 'STRING', 'NULLABLE', None, ()), SchemaField('productCategory', 'STRING', 'NULLABLE', None, ()), SchemaField('productSku', 'STRING', 'NULLABLE', None, ()), SchemaField('itemQuantity', 'INTEGER', 'NULLABLE', None, ()), SchemaField('itemRevenue', 'INTEGER', 'NULLABLE', None, ()), SchemaField('currencyCode', 'STRING', 'NULLABLE', None, ()), SchemaField('localItemRevenue', 'INTEGER', 'NULLABLE', None, ()))), SchemaField('contentInfo', 'RECORD', 'NULLABLE', None, (SchemaField('contentDescription', 'STRING', 'NULLABLE', None, ()),)), SchemaField('appInfo', 'RECORD', 'NULLABLE', None, (SchemaField('name', 'STRING', 'NULLABLE', None, ()), SchemaField('version', 'STRING', 'NULLABLE', None, ()), SchemaField('id', 'STRING', 'NULLABLE', None, ()), SchemaField('installerId', 'STRING', 'NULLABLE', None, ()), SchemaField('appInstallerId', 'STRING', 'NULLABLE', None, ()), SchemaField('appName', 'STRING', 'NULLABLE', None, ()), SchemaField('appVersion', 'STRING', 'NULLABLE', None, ()), SchemaField('appId', 'STRING', 'NULLABLE', None, ()), SchemaField('screenName', 'STRING', 'NULLABLE', None, ()), SchemaField('landingScreenName', 'STRING', 'NULLABLE', None, ()), SchemaField('exitScreenName', 'STRING', 'NULLABLE', None, ()), SchemaField('screenDepth', 'STRING', 'NULLABLE', None, ()))), SchemaField('exceptionInfo', 'RECORD', 'NULLABLE', None, (SchemaField('description', 'STRING', 'NULLABLE', None, ()), SchemaField('isFatal', 'BOOLEAN', 'NULLABLE', None, ()), SchemaField('exceptions', 'INTEGER', 'NULLABLE', None, ()), SchemaField('fatalExceptions', 'INTEGER', 'NULLABLE', None, ()))), SchemaField('eventInfo', 'RECORD', 'NULLABLE', None, (SchemaField('eventCategory', 'STRING', 'NULLABLE', None, ()), SchemaField('eventAction', 'STRING', 'NULLABLE', None, ()), SchemaField('eventLabel', 'STRING', 'NULLABLE', None, ()), SchemaField('eventValue', 'INTEGER', 'NULLABLE', None, ()))), SchemaField('product', 'RECORD', 'REPEATED', None, (SchemaField('productSKU', 'STRING', 'NULLABLE', None, ()), SchemaField('v2ProductName', 'STRING', 'NULLABLE', None, ()), SchemaField('v2ProductCategory', 'STRING', 'NULLABLE', None, ()), SchemaField('productVariant', 'STRING', 'NULLABLE', None, ()), SchemaField('productBrand', 'STRING', 'NULLABLE', None, ()), SchemaField('productRevenue', 'INTEGER', 'NULLABLE', None, ()), SchemaField('localProductRevenue', 'INTEGER', 'NULLABLE', None, ()), SchemaField('productPrice', 'INTEGER', 'NULLABLE', None, ()), SchemaField('localProductPrice', 'INTEGER', 'NULLABLE', None, ()), SchemaField('productQuantity', 'INTEGER', 'NULLABLE', None, ()), SchemaField('productRefundAmount', 'INTEGER', 'NULLABLE', None, ()), SchemaField('localProductRefundAmount', 'INTEGER', 'NULLABLE', None, ()), SchemaField('isImpression', 'BOOLEAN', 'NULLABLE', None, ()), SchemaField('isClick', 'BOOLEAN', 'NULLABLE', None, ()), SchemaField('customDimensions', 'RECORD', 'REPEATED', None, (SchemaField('index', 'INTEGER', 'NULLABLE', None, ()), SchemaField('value', 'STRING', 'NULLABLE', None, ()))), SchemaField('customMetrics', 'RECORD', 'REPEATED', None, (SchemaField('index', 'INTEGER', 'NULLABLE', None, ()), SchemaField('value', 'INTEGER', 'NULLABLE', None, ()))), SchemaField('productListName', 'STRING', 'NULLABLE', None, ()), SchemaField('productListPosition', 'INTEGER', 'NULLABLE', None, ()), SchemaField('productCouponCode', 'STRING', 'NULLABLE', None, ()))), SchemaField('promotion', 'RECORD', 'REPEATED', None, (SchemaField('promoId', 'STRING', 'NULLABLE', None, ()), SchemaField('promoName', 'STRING', 'NULLABLE', None, ()), SchemaField('promoCreative', 'STRING', 'NULLABLE', None, ()), SchemaField('promoPosition', 'STRING', 'NULLABLE', None, ()))), SchemaField('promotionActionInfo', 'RECORD', 'NULLABLE', None, (SchemaField('promoIsView', 'BOOLEAN', 'NULLABLE', None, ()), SchemaField('promoIsClick', 'BOOLEAN', 'NULLABLE', None, ()))), SchemaField('refund', 'RECORD', 'NULLABLE', None, (SchemaField('refundAmount', 'INTEGER', 'NULLABLE', None, ()), SchemaField('localRefundAmount', 'INTEGER', 'NULLABLE', None, ()))), SchemaField('eCommerceAction', 'RECORD', 'NULLABLE', None, (SchemaField('action_type', 'STRING', 'NULLABLE', None, ()), SchemaField('step', 'INTEGER', 'NULLABLE', None, ()), SchemaField('option', 'STRING', 'NULLABLE', None, ()))), SchemaField('experiment', 'RECORD', 'REPEATED', None, (SchemaField('experimentId', 'STRING', 'NULLABLE', None, ()), SchemaField('experimentVariant', 'STRING', 'NULLABLE', None, ()))), SchemaField('publisher', 'RECORD', 'NULLABLE', None, (SchemaField('dfpClicks', 'INTEGER', 'NULLABLE', None, ()), SchemaField('dfpImpressions', 'INTEGER', 'NULLABLE', None, ()), SchemaField('dfpMatchedQueries', 'INTEGER', 'NULLABLE', None, ()), SchemaField('dfpMeasurableImpressions', 'INTEGER', 'NULLABLE', None, ()), SchemaField('dfpQueries', 'INTEGER', 'NULLABLE', None, ()), SchemaField('dfpRevenueCpm', 'INTEGER', 'NULLABLE', None, ()), SchemaField('dfpRevenueCpc', 'INTEGER', 'NULLABLE', None, ()), SchemaField('dfpViewableImpressions', 'INTEGER', 'NULLABLE', None, ()), SchemaField('dfpPagesViewed', 'INTEGER', 'NULLABLE', None, ()), SchemaField('adsenseBackfillDfpClicks', 'INTEGER', 'NULLABLE', None, ()), SchemaField('adsenseBackfillDfpImpressions', 'INTEGER', 'NULLABLE', None, ()), SchemaField('adsenseBackfillDfpMatchedQueries', 'INTEGER', 'NULLABLE', None, ()), SchemaField('adsenseBackfillDfpMeasurableImpressions', 'INTEGER', 'NULLABLE', None, ()), SchemaField('adsenseBackfillDfpQueries', 'INTEGER', 'NULLABLE', None, ()), SchemaField('adsenseBackfillDfpRevenueCpm', 'INTEGER', 'NULLABLE', None, ()), SchemaField('adsenseBackfillDfpRevenueCpc', 'INTEGER', 'NULLABLE', None, ()), SchemaField('adsenseBackfillDfpViewableImpressions', 'INTEGER', 'NULLABLE', None, ()), SchemaField('adsenseBackfillDfpPagesViewed', 'INTEGER', 'NULLABLE', None, ()), SchemaField('adxBackfillDfpClicks', 'INTEGER', 'NULLABLE', None, ()), SchemaField('adxBackfillDfpImpressions', 'INTEGER', 'NULLABLE', None, ()), SchemaField('adxBackfillDfpMatchedQueries', 'INTEGER', 'NULLABLE', None, ()), SchemaField('adxBackfillDfpMeasurableImpressions', 'INTEGER', 'NULLABLE', None, ()), SchemaField('adxBackfillDfpQueries', 'INTEGER', 'NULLABLE', None, ()), SchemaField('adxBackfillDfpRevenueCpm', 'INTEGER', 'NULLABLE', None, ()), SchemaField('adxBackfillDfpRevenueCpc', 'INTEGER', 'NULLABLE', None, ()), SchemaField('adxBackfillDfpViewableImpressions', 'INTEGER', 'NULLABLE', None, ()), SchemaField('adxBackfillDfpPagesViewed', 'INTEGER', 'NULLABLE', None, ()), SchemaField('adxClicks', 'INTEGER', 'NULLABLE', None, ()), SchemaField('adxImpressions', 'INTEGER', 'NULLABLE', None, ()), SchemaField('adxMatchedQueries', 'INTEGER', 'NULLABLE', None, ()), SchemaField('adxMeasurableImpressions', 'INTEGER', 'NULLABLE', None, ()), SchemaField('adxQueries', 'INTEGER', 'NULLABLE', None, ()), SchemaField('adxRevenue', 'INTEGER', 'NULLABLE', None, ()), SchemaField('adxViewableImpressions', 'INTEGER', 'NULLABLE', None, ()), SchemaField('adxPagesViewed', 'INTEGER', 'NULLABLE', None, ()), SchemaField('adsViewed', 'INTEGER', 'NULLABLE', None, ()), SchemaField('adsUnitsViewed', 'INTEGER', 'NULLABLE', None, ()), SchemaField('adsUnitsMatched', 'INTEGER', 'NULLABLE', None, ()), SchemaField('viewableAdsViewed', 'INTEGER', 'NULLABLE', None, ()), SchemaField('measurableAdsViewed', 'INTEGER', 'NULLABLE', None, ()), SchemaField('adsPagesViewed', 'INTEGER', 'NULLABLE', None, ()), SchemaField('adsClicked', 'INTEGER', 'NULLABLE', None, ()), SchemaField('adsRevenue', 'INTEGER', 'NULLABLE', None, ()), SchemaField('dfpAdGroup', 'STRING', 'NULLABLE', None, ()), SchemaField('dfpAdUnits', 'STRING', 'NULLABLE', None, ()), SchemaField('dfpNetworkId', 'STRING', 'NULLABLE', None, ()))), SchemaField('customVariables', 'RECORD', 'REPEATED', None, (SchemaField('index', 'INTEGER', 'NULLABLE', None, ()), SchemaField('customVarName', 'STRING', 'NULLABLE', None, ()), SchemaField('customVarValue', 'STRING', 'NULLABLE', None, ()))), SchemaField('customDimensions', 'RECORD', 'REPEATED', None, (SchemaField('index', 'INTEGER', 'NULLABLE', None, ()), SchemaField('value', 'STRING', 'NULLABLE', None, ()))), SchemaField('customMetrics', 'RECORD', 'REPEATED', None, (SchemaField('index', 'INTEGER', 'NULLABLE', None, ()), SchemaField('value', 'INTEGER', 'NULLABLE', None, ()))), SchemaField('type', 'STRING', 'NULLABLE', None, ()), SchemaField('social', 'RECORD', 'NULLABLE', None, (SchemaField('socialInteractionNetwork', 'STRING', 'NULLABLE', None, ()), SchemaField('socialInteractionAction', 'STRING', 'NULLABLE', None, ()), SchemaField('socialInteractions', 'INTEGER', 'NULLABLE', None, ()), SchemaField('socialInteractionTarget', 'STRING', 'NULLABLE', None, ()), SchemaField('socialNetwork', 'STRING', 'NULLABLE', None, ()), SchemaField('uniqueSocialInteractions', 'INTEGER', 'NULLABLE', None, ()), SchemaField('hasSocialSourceReferral', 'STRING', 'NULLABLE', None, ()), SchemaField('socialInteractionNetworkAction', 'STRING', 'NULLABLE', None, ()))), SchemaField('latencyTracking', 'RECORD', 'NULLABLE', None, (SchemaField('pageLoadSample', 'INTEGER', 'NULLABLE', None, ()), SchemaField('pageLoadTime', 'INTEGER', 'NULLABLE', None, ()), SchemaField('pageDownloadTime', 'INTEGER', 'NULLABLE', None, ()), SchemaField('redirectionTime', 'INTEGER', 'NULLABLE', None, ()), SchemaField('speedMetricsSample', 'INTEGER', 'NULLABLE', None, ()), SchemaField('domainLookupTime', 'INTEGER', 'NULLABLE', None, ()), SchemaField('serverConnectionTime', 'INTEGER', 'NULLABLE', None, ()), SchemaField('serverResponseTime', 'INTEGER', 'NULLABLE', None, ()), SchemaField('domLatencyMetricsSample', 'INTEGER', 'NULLABLE', None, ()), SchemaField('domInteractiveTime', 'INTEGER', 'NULLABLE', None, ()), SchemaField('domContentLoadedTime', 'INTEGER', 'NULLABLE', None, ()), SchemaField('userTimingValue', 'INTEGER', 'NULLABLE', None, ()), SchemaField('userTimingSample', 'INTEGER', 'NULLABLE', None, ()), SchemaField('userTimingVariable', 'STRING', 'NULLABLE', None, ()), SchemaField('userTimingCategory', 'STRING', 'NULLABLE', None, ()), SchemaField('userTimingLabel', 'STRING', 'NULLABLE', None, ()))), SchemaField('sourcePropertyInfo', 'RECORD', 'NULLABLE', None, (SchemaField('sourcePropertyDisplayName', 'STRING', 'NULLABLE', None, ()), SchemaField('sourcePropertyTrackingId', 'STRING', 'NULLABLE', None, ()))), SchemaField('contentGroup', 'RECORD', 'NULLABLE', None, (SchemaField('contentGroup1', 'STRING', 'NULLABLE', None, ()), SchemaField('contentGroup2', 'STRING', 'NULLABLE', None, ()), SchemaField('contentGroup3', 'STRING', 'NULLABLE', None, ()), SchemaField('contentGroup4', 'STRING', 'NULLABLE', None, ()), SchemaField('contentGroup5', 'STRING', 'NULLABLE', None, ()), SchemaField('previousContentGroup1', 'STRING', 'NULLABLE', None, ()), SchemaField('previousContentGroup2', 'STRING', 'NULLABLE', None, ()), SchemaField('previousContentGroup3', 'STRING', 'NULLABLE', None, ()), SchemaField('previousContentGroup4', 'STRING', 'NULLABLE', None, ()), SchemaField('previousContentGroup5', 'STRING', 'NULLABLE', None, ()), SchemaField('contentGroupUniqueViews1', 'INTEGER', 'NULLABLE', None, ()), SchemaField('contentGroupUniqueViews2', 'INTEGER', 'NULLABLE', None, ()), SchemaField('contentGroupUniqueViews3', 'INTEGER', 'NULLABLE', None, ()), SchemaField('contentGroupUniqueViews4', 'INTEGER', 'NULLABLE', None, ()), SchemaField('contentGroupUniqueViews5', 'INTEGER', 'NULLABLE', None, ()))), SchemaField('dataSource', 'STRING', 'NULLABLE', None, ()), SchemaField('publisher_infos', 'RECORD', 'REPEATED', None, (SchemaField('dfpClicks', 'INTEGER', 'NULLABLE', None, ()), SchemaField('dfpImpressions', 'INTEGER', 'NULLABLE', None, ()), SchemaField('dfpMatchedQueries', 'INTEGER', 'NULLABLE', None, ()), SchemaField('dfpMeasurableImpressions', 'INTEGER', 'NULLABLE', None, ()), SchemaField('dfpQueries', 'INTEGER', 'NULLABLE', None, ()), SchemaField('dfpRevenueCpm', 'INTEGER', 'NULLABLE', None, ()), SchemaField('dfpRevenueCpc', 'INTEGER', 'NULLABLE', None, ()), SchemaField('dfpViewableImpressions', 'INTEGER', 'NULLABLE', None, ()), SchemaField('dfpPagesViewed', 'INTEGER', 'NULLABLE', None, ()), SchemaField('adsenseBackfillDfpClicks', 'INTEGER', 'NULLABLE', None, ()), SchemaField('adsenseBackfillDfpImpressions', 'INTEGER', 'NULLABLE', None, ()), SchemaField('adsenseBackfillDfpMatchedQueries', 'INTEGER', 'NULLABLE', None, ()), SchemaField('adsenseBackfillDfpMeasurableImpressions', 'INTEGER', 'NULLABLE', None, ()), SchemaField('adsenseBackfillDfpQueries', 'INTEGER', 'NULLABLE', None, ()), SchemaField('adsenseBackfillDfpRevenueCpm', 'INTEGER', 'NULLABLE', None, ()), SchemaField('adsenseBackfillDfpRevenueCpc', 'INTEGER', 'NULLABLE', None, ()), SchemaField('adsenseBackfillDfpViewableImpressions', 'INTEGER', 'NULLABLE', None, ()), SchemaField('adsenseBackfillDfpPagesViewed', 'INTEGER', 'NULLABLE', None, ()), SchemaField('adxBackfillDfpClicks', 'INTEGER', 'NULLABLE', None, ()), SchemaField('adxBackfillDfpImpressions', 'INTEGER', 'NULLABLE', None, ()), SchemaField('adxBackfillDfpMatchedQueries', 'INTEGER', 'NULLABLE', None, ()), SchemaField('adxBackfillDfpMeasurableImpressions', 'INTEGER', 'NULLABLE', None, ()), SchemaField('adxBackfillDfpQueries', 'INTEGER', 'NULLABLE', None, ()), SchemaField('adxBackfillDfpRevenueCpm', 'INTEGER', 'NULLABLE', None, ()), SchemaField('adxBackfillDfpRevenueCpc', 'INTEGER', 'NULLABLE', None, ()), SchemaField('adxBackfillDfpViewableImpressions', 'INTEGER', 'NULLABLE', None, ()), SchemaField('adxBackfillDfpPagesViewed', 'INTEGER', 'NULLABLE', None, ()), SchemaField('adxClicks', 'INTEGER', 'NULLABLE', None, ()), SchemaField('adxImpressions', 'INTEGER', 'NULLABLE', None, ()), SchemaField('adxMatchedQueries', 'INTEGER', 'NULLABLE', None, ()), SchemaField('adxMeasurableImpressions', 'INTEGER', 'NULLABLE', None, ()), SchemaField('adxQueries', 'INTEGER', 'NULLABLE', None, ()), SchemaField('adxRevenue', 'INTEGER', 'NULLABLE', None, ()), SchemaField('adxViewableImpressions', 'INTEGER', 'NULLABLE', None, ()), SchemaField('adxPagesViewed', 'INTEGER', 'NULLABLE', None, ()), SchemaField('adsViewed', 'INTEGER', 'NULLABLE', None, ()), SchemaField('adsUnitsViewed', 'INTEGER', 'NULLABLE', None, ()), SchemaField('adsUnitsMatched', 'INTEGER', 'NULLABLE', None, ()), SchemaField('viewableAdsViewed', 'INTEGER', 'NULLABLE', None, ()), SchemaField('measurableAdsViewed', 'INTEGER', 'NULLABLE', None, ()), SchemaField('adsPagesViewed', 'INTEGER', 'NULLABLE', None, ()), SchemaField('adsClicked', 'INTEGER', 'NULLABLE', None, ()), SchemaField('adsRevenue', 'INTEGER', 'NULLABLE', None, ()), SchemaField('dfpAdGroup', 'STRING', 'NULLABLE', None, ()), SchemaField('dfpAdUnits', 'STRING', 'NULLABLE', None, ()), SchemaField('dfpNetworkId', 'STRING', 'NULLABLE', None, ()))))),\n",
       " SchemaField('fullVisitorId', 'STRING', 'NULLABLE', None, ()),\n",
       " SchemaField('userId', 'STRING', 'NULLABLE', None, ()),\n",
       " SchemaField('clientId', 'STRING', 'NULLABLE', None, ()),\n",
       " SchemaField('channelGrouping', 'STRING', 'NULLABLE', None, ()),\n",
       " SchemaField('socialEngagementType', 'STRING', 'NULLABLE', None, ())]"
      ]
     },
     "execution_count": 13,
     "metadata": {},
     "output_type": "execute_result"
    }
   ],
   "source": [
    "ga_sample_table.schema"
   ]
  },
  {
   "cell_type": "code",
   "execution_count": 4,
   "metadata": {},
   "outputs": [
    {
     "data": {
      "text/plain": [
       "'ga_sample_table created in project - big-query-horse-play'"
      ]
     },
     "execution_count": 4,
     "metadata": {},
     "output_type": "execute_result"
    }
   ],
   "source": [
    "# Toss it over to BG\n",
    "util.create_dataset(horseplay_client, 'ga_sample_table')"
   ]
  },
  {
   "cell_type": "code",
   "execution_count": 6,
   "metadata": {},
   "outputs": [
    {
     "name": "stdout",
     "output_type": "stream",
     "text": [
      "Datasets in project - big-query-horse-play:\n",
      "ga_sample_table\n",
      "names_dataset\n",
      "second_test\n"
     ]
    }
   ],
   "source": [
    "horseplay_db_ids = util.get_dataset_ids(horseplay_client, log=True)"
   ]
  },
  {
   "cell_type": "code",
   "execution_count": 7,
   "metadata": {},
   "outputs": [
    {
     "data": {
      "text/plain": [
       "['ga_sample_table', 'names_dataset', 'second_test']"
      ]
     },
     "execution_count": 7,
     "metadata": {},
     "output_type": "execute_result"
    }
   ],
   "source": [
    "horseplay_db_ids"
   ]
  },
  {
   "cell_type": "code",
   "execution_count": 10,
   "metadata": {},
   "outputs": [],
   "source": [
    "test_df = pgbq.read_gbq(ga_query, dialect=\"standard\")"
   ]
  },
  {
   "cell_type": "code",
   "execution_count": 12,
   "metadata": {
    "collapsed": true
   },
   "outputs": [],
   "source": [
    "pgbq.to_gbq(test_df, \"ga_sample_table.test_bq_ga_query\")"
   ]
  },
  {
   "cell_type": "code",
   "execution_count": 24,
   "metadata": {},
   "outputs": [],
   "source": [
    "test_bq_query = (\n",
    "\"\"\"\n",
    "SELECT device.deviceCategory\n",
    ", SUM(totals.visits) AS Visits\n",
    ", SUM(totals.pageviews) AS PVs\n",
    ", SUM(totals.newVisits) AS NewVisits\n",
    "FROM `bigquery-public-data.google_analytics_sample.ga_sessions_20170101`\n",
    "GROUP BY device.deviceCategory\n",
    "\"\"\")"
   ]
  },
  {
   "cell_type": "code",
   "execution_count": 26,
   "metadata": {},
   "outputs": [],
   "source": [
    "test_df2 = pgbq.read_gbq(test_bq_query, dialect=\"standard\")"
   ]
  },
  {
   "cell_type": "code",
   "execution_count": 27,
   "metadata": {
    "collapsed": true
   },
   "outputs": [],
   "source": [
    "pgbq.to_gbq(test_df2, \"ga_sample_table.test_bq_ga_query2\")"
   ]
  }
 ],
 "metadata": {
  "kernelspec": {
   "display_name": "Python 3",
   "language": "python",
   "name": "python3"
  },
  "language_info": {
   "codemirror_mode": {
    "name": "ipython",
    "version": 3
   },
   "file_extension": ".py",
   "mimetype": "text/x-python",
   "name": "python",
   "nbconvert_exporter": "python",
   "pygments_lexer": "ipython3",
   "version": "3.6.6"
  }
 },
 "nbformat": 4,
 "nbformat_minor": 2
}
