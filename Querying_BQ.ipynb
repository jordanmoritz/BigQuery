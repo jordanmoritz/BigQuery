{
 "cells": [
  {
   "cell_type": "code",
   "execution_count": 1,
   "metadata": {},
   "outputs": [],
   "source": [
    "from google.cloud import bigquery as bq\n",
    "import os\n",
    "import pandas as pd\n",
    "import pandas_gbq as pgbq\n",
    "import util_functions as util\n",
    "import matplotlib.pyplot as plt\n",
    "import pprint\n",
    "\n",
    "pp = pprint.PrettyPrinter()\n",
    "\n",
    "%matplotlib inline\n",
    "%load_ext google.cloud.bigquery\n",
    "\n",
    "service_credentials = 'Service_Credentials/big-query-horse-play-f37757d450b8.json'\n",
    "os.environ['GOOGLE_APPLICATION_CREDENTIALS'] = service_credentials\n",
    "\n",
    "# For your mess around dataset\n",
    "horseplay_client = bq.Client()\n",
    "\n",
    "# For BQ public datasets\n",
    "bq_pub_client = bq.Client(project='bigquery-public-data')"
   ]
  },
  {
   "cell_type": "code",
   "execution_count": null,
   "metadata": {},
   "outputs": [],
   "source": [
    "%%bigquery birth_df\n",
    "\n",
    "SELECT\n",
    "    source_year AS year,\n",
    "    mother_age AS mom_age,\n",
    "    COUNT(cigarettes_per_day) AS cigs_per_day\n",
    "FROM `bigquery-public-data.samples.natality`\n",
    "GROUP BY year, mom_age\n",
    "ORDER BY year DESC\n",
    "LIMIT 5"
   ]
  },
  {
   "cell_type": "code",
   "execution_count": null,
   "metadata": {},
   "outputs": [],
   "source": [
    "birth_df[['mom_age', 'cigs_per_day']].groupby(by='mom_age').mean().plot(kind='bar')"
   ]
  },
  {
   "cell_type": "code",
   "execution_count": null,
   "metadata": {
    "collapsed": true
   },
   "outputs": [],
   "source": [
    "# But the above is the same as this\n",
    "sql_query = (\n",
    "\"\"\"\n",
    "SELECT\n",
    "    source_year AS year,\n",
    "    mother_age AS mom_age,\n",
    "    COUNT(cigarettes_per_day) AS cigs_per_day\n",
    "FROM `bigquery-public-data.samples.natality`\n",
    "GROUP BY year, mom_age\n",
    "ORDER BY year DESC\n",
    "LIMIT 5\n",
    "\"\"\")\n",
    "\n",
    "query_job = horseplay_client.query(sql_query)\n",
    "\n",
    "query_results = query_job.result()\n",
    "\n",
    "# But then you need to process it extensively to get it into a pandas df"
   ]
  },
  {
   "cell_type": "code",
   "execution_count": null,
   "metadata": {},
   "outputs": [],
   "source": [
    "# So if you want the best of both worlds, you can just use the pgbq functions rather than line magic\n",
    "pgbq.read_gbq(sql_query, dialect=\"standard\")"
   ]
  },
  {
   "cell_type": "code",
   "execution_count": null,
   "metadata": {},
   "outputs": [],
   "source": [
    "# Okay, let's hit the GA bigquery sample\n",
    "ga_query = (\n",
    "\"\"\"\n",
    "SELECT SUM(totals.pageviews) as TotalPageviews\n",
    "FROM `bigquery-public-data.google_analytics_sample.ga_sessions_20170101`\n",
    "\"\"\")\n",
    "\n",
    "pgbq.read_gbq(ga_query, dialect=\"standard\")"
   ]
  },
  {
   "cell_type": "code",
   "execution_count": null,
   "metadata": {},
   "outputs": [],
   "source": [
    "util.get_table_ids(bq_pub_client, ga_sample_db_ref)"
   ]
  },
  {
   "cell_type": "code",
   "execution_count": 2,
   "metadata": {},
   "outputs": [
    {
     "name": "stdout",
     "output_type": "stream",
     "text": [
      "---------------------------------------\n",
      "Dataset ID: google_analytics_sample\n",
      "Friendly Name: None\n",
      "Full ID: bigquery-public-data:google_analytics_sample\n",
      "Labels: {}\n",
      "Project: bigquery-public-data\n",
      "Ref: DatasetReference('bigquery-public-data', 'google_analytics_sample')\n",
      "---------------------------------------\n",
      "---------------------------------------\n",
      "Table ID: ga_sessions_20170801\n",
      "Friendly Name: None\n",
      "Full ID: bigquery-public-data:google_analytics_sample.ga_sessions_20170801\n",
      "Type: TABLE\n",
      "Rows: 2556\n"
     ]
    }
   ],
   "source": [
    "ga_sample_db_ref = util.get_dataset(bq_pub_client, 'google_analytics_sample')\n",
    "ga_sample_table_ids = util.get_table_ids(bq_pub_client, ga_sample_db_ref)\n",
    "ga_sample_table = util.get_table(bq_pub_client, ga_sample_db_ref, ga_sample_table_ids[365])"
   ]
  }
 ],
 "metadata": {
  "kernelspec": {
   "display_name": "Python 3",
   "language": "python",
   "name": "python3"
  },
  "language_info": {
   "codemirror_mode": {
    "name": "ipython",
    "version": 3
   },
   "file_extension": ".py",
   "mimetype": "text/x-python",
   "name": "python",
   "nbconvert_exporter": "python",
   "pygments_lexer": "ipython3",
   "version": "3.6.6"
  }
 },
 "nbformat": 4,
 "nbformat_minor": 2
}
